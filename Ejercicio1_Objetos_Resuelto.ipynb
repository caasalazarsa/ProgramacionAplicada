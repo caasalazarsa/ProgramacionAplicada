{
  "cells": [
    {
      "cell_type": "markdown",
      "metadata": {
        "id": "view-in-github",
        "colab_type": "text"
      },
      "source": [
        "<a href=\"https://colab.research.google.com/github/caasalazarsa/ProgramacionAplicada/blob/main/Ejercicio1_Objetos_Resuelto.ipynb\" target=\"_parent\"><img src=\"https://colab.research.google.com/assets/colab-badge.svg\" alt=\"Open In Colab\"/></a>"
      ]
    },
    {
      "cell_type": "markdown",
      "metadata": {
        "id": "0k-V4TGT0jlo"
      },
      "source": [
        "## Ejercicio1  de programación aplicada"
      ]
    },
    {
      "cell_type": "markdown",
      "metadata": {
        "id": "PNgg3L1n0jls"
      },
      "source": [
        "- Crea una clase llamada Punto con sus dos coordenadas X e Y.\n",
        "- Añade un método constructor para crear puntos fácilmente. Si no se reciben una coordenada, su valor será cero.\n",
        "- Sobreescribe el método string, para que al imprimir por pantalla un punto aparezca en formato (X,Y)\n",
        "- Añade un método llamado cuadrante que indique a qué cuadrante pertenece el punto, teniendo en cuenta que si X == 0 e Y != 0 se sitúa sobre el eje Y, si X != 0 e Y == 0 se sitúa sobre el eje X y si X == 0 e Y == 0 está sobre el origen.\n",
        "- Añade un método llamado vector, que tome otro punto y calcule el vector resultante entre los dos puntos.\n",
        "- Añade un método llamado distancia, que tome otro punto y calcule la distancia entre los dos puntos y la muestre por pantalla. La fórmula es la siguiente:"
      ]
    },
    {
      "cell_type": "markdown",
      "metadata": {
        "id": "DqaJ-xxR0jlt"
      },
      "source": [
        "$$d =\\sqrt{(x_2-x_1)^2+(y_2-y_1)^2}$$"
      ]
    },
    {
      "cell_type": "code",
      "execution_count": 1,
      "metadata": {
        "id": "dr1Qc-AK0jlt",
        "outputId": "2ab96c21-accb-4b47-e8a2-6b20811262b5",
        "colab": {
          "base_uri": "https://localhost:8080/"
        }
      },
      "outputs": [
        {
          "output_type": "execute_result",
          "data": {
            "text/plain": [
              "3.0"
            ]
          },
          "metadata": {},
          "execution_count": 1
        }
      ],
      "source": [
        "import math\n",
        "math.sqrt(9)"
      ]
    },
    {
      "cell_type": "code",
      "execution_count": 17,
      "metadata": {
        "id": "__mhmp490jlv"
      },
      "outputs": [],
      "source": [
        "class Punto:\n",
        "\n",
        "    def __init__(self, x=0, y=0):\n",
        "        self.x = x\n",
        "        self.y = y\n",
        "\n",
        "    def __str__(self):\n",
        "        return \"({}, {})\".format(self.x, self.y)\n",
        "\n",
        "    def __repr__(self):\n",
        "        return str(self)\n",
        "\n",
        "    def cuadrante(self):\n",
        "        if self.x > 0 and self.y > 0:\n",
        "            print(\"{} pertenece al primer cuadrante\".format(self))\n",
        "        elif self.x < 0 and self.y > 0:\n",
        "            print(\"{} pertenece al segundo cuadrante\".format(self))\n",
        "        elif self.x < 0 and self.y < 0:\n",
        "            print(\"{} pertenece al tercer cuadrante\".format(self))\n",
        "        elif self.x > 0 and self.y < 0:\n",
        "            print(\"{} pertenece al cuarto cuadrante\".format(self))\n",
        "        elif self.x != 0 and self.y == 0:\n",
        "            print(\"{} se sitúa sobre el eje X\".format(self))\n",
        "        elif self.x == 0 and self.y != 0:\n",
        "            print(\"{} se sitúa sobre el eje Y\".format(self))\n",
        "        else:\n",
        "            print(\"{} se encuentra sobre el origen\".format(self))\n",
        "\n",
        "    def vector(self, p):\n",
        "        print(\"El vector entre {} y {} es ({}, {})\".format(\n",
        "            self, p, p.x - self.x, p.y - self.y) )\n",
        "\n",
        "    def distancia(self, p):\n",
        "        d = round(math.sqrt( (p.x - self.x)**2 + (p.y - self.y)**2 ),2)\n",
        "        print(\"La distancia entre los puntos {} y {} es {}\".format(\n",
        "            self, p, d))\n",
        "        return  d\n"
      ]
    },
    {
      "cell_type": "markdown",
      "metadata": {
        "id": "LoXXiAbY0jlw"
      },
      "source": [
        "## Casos de prueba\n",
        "\n",
        "- Crea los puntos A(2, 3), B(5,5), C(-3, -1) y D(0,0) e imprimelos por pantalla.\n",
        "- Consulta a que cuadrante pertenecen el punto A, C y D.\n",
        "- Consulta los vectores AB y BA.\n",
        "- Consulta la distancia entre los puntos 'A y B' y 'B y A'.\n",
        "- Determina cual de los 3 puntos A, B o C, se encuentra más lejos del origen, punto (0,0).\n",
        "- Crea un rectángulo utilizando los puntos A y B.\n",
        "Consulta la base, altura y área del rectángulo."
      ]
    },
    {
      "cell_type": "code",
      "source": [
        "#Prueba1\n",
        "\n",
        "A=Punto(2,3)\n",
        "B=Punto(5,5)\n",
        "C=Punto(-3,-1)\n",
        "D=Punto()\n",
        "\n",
        "print(A,B,C,D)\n",
        "\n",
        "lista_puntos=[A,B,C,D]\n",
        "\n",
        "print(lista_puntos)\n",
        "\n",
        "#Prueba2\n",
        "\n",
        "A.cuadrante()\n",
        "C.cuadrante()\n",
        "D.cuadrante()\n",
        "\n",
        "#Prueba3\n",
        "\n",
        "A.vector(B)\n",
        "B.vector(A)\n",
        "\n",
        "#Prueba4\n",
        "\n",
        "A.distancia(B)\n",
        "B.distancia(A)\n",
        "\n",
        "#Prueba5\n",
        "\n",
        "distancias=[A.distancia(D),B.distancia(D),C.distancia(D)]\n",
        "if max(distancias)==distancias[0]:\n",
        "  print(\"el punto más lejano es A\")\n",
        "elif max(distancias)==distancias[1]:\n",
        "  print(\"el punto más lejano es B\")\n",
        "else:\n",
        "  print(\"el punto más lejano es C\")\n",
        "\n",
        "\n"
      ],
      "metadata": {
        "id": "WenmQ3OMaE5T",
        "outputId": "aa16ef81-295b-4ae2-875f-ca7c4bb9b055",
        "colab": {
          "base_uri": "https://localhost:8080/"
        }
      },
      "execution_count": 18,
      "outputs": [
        {
          "output_type": "stream",
          "name": "stdout",
          "text": [
            "(2, 3) (5, 5) (-3, -1) (0, 0)\n",
            "[(2, 3), (5, 5), (-3, -1), (0, 0)]\n",
            "(2, 3) pertenece al primer cuadrante\n",
            "(-3, -1) pertenece al tercer cuadrante\n",
            "(0, 0) se encuentra sobre el origen\n",
            "El vector entre (2, 3) y (5, 5) es (3, 2)\n",
            "El vector entre (5, 5) y (2, 3) es (-3, -2)\n",
            "La distancia entre los puntos (2, 3) y (5, 5) es 3.61\n",
            "La distancia entre los puntos (5, 5) y (2, 3) es 3.61\n",
            "La distancia entre los puntos (2, 3) y (0, 0) es 3.61\n",
            "La distancia entre los puntos (5, 5) y (0, 0) es 7.07\n",
            "La distancia entre los puntos (-3, -1) y (0, 0) es 3.16\n",
            "el punto más lejano es B\n"
          ]
        }
      ]
    },
    {
      "cell_type": "code",
      "execution_count": 20,
      "metadata": {
        "id": "1jv_6k4N0jlw"
      },
      "outputs": [],
      "source": [
        "class Rectangulo:\n",
        "\n",
        "    def __init__(self, pInicial=Punto(), pFinal=Punto()):\n",
        "        self.pInicial = pInicial\n",
        "        self.pFinal = pFinal\n",
        "\n",
        "        # Hago los cálculos, pero no llamo los atributos igual \n",
        "        # que los métodos porque sino podríamos sobreescribirlos\n",
        "        self.vBase = abs(self.pFinal.x - self.pInicial.x)\n",
        "        self.vAltura = abs(self.pFinal.y - self.pInicial.y)\n",
        "        self.vArea = self.vBase * self.vAltura\n",
        "\n",
        "    def base(self):\n",
        "        print(\"La base del rectángulo es {}\".format( self.vBase ) )\n",
        "\n",
        "    def altura(self):\n",
        "        print(\"La altura del rectángulo es {}\".format( self.vAltura ) )\n",
        "\n",
        "    def area(self):\n",
        "        print(\"El área del rectángulo es {}\".format( self.vArea ) )\n"
      ]
    },
    {
      "cell_type": "code",
      "source": [
        "#Prueba 6\n",
        "\n",
        "rect1=Rectangulo(A,B)\n",
        "rect1.base()\n",
        "rect1.altura()\n",
        "rect1.area()"
      ],
      "metadata": {
        "id": "Ef1FyZstd7ch",
        "outputId": "f340dd73-bdd4-4835-a15a-54d022082f89",
        "colab": {
          "base_uri": "https://localhost:8080/"
        }
      },
      "execution_count": 21,
      "outputs": [
        {
          "output_type": "stream",
          "name": "stdout",
          "text": [
            "La base del rectángulo es 3\n",
            "La altura del rectángulo es 2\n",
            "El área del rectángulo es 6\n"
          ]
        }
      ]
    }
  ],
  "metadata": {
    "kernelspec": {
      "display_name": "Python 3",
      "language": "python",
      "name": "python3"
    },
    "language_info": {
      "codemirror_mode": {
        "name": "ipython",
        "version": 3
      },
      "file_extension": ".py",
      "mimetype": "text/x-python",
      "name": "python",
      "nbconvert_exporter": "python",
      "pygments_lexer": "ipython3",
      "version": "3.7.6"
    },
    "latex_envs": {
      "LaTeX_envs_menu_present": true,
      "autoclose": false,
      "autocomplete": true,
      "bibliofile": "biblio.bib",
      "cite_by": "apalike",
      "current_citInitial": 1,
      "eqLabelWithNumbers": true,
      "eqNumInitial": 1,
      "hotkeys": {
        "equation": "Ctrl-E",
        "itemize": "Ctrl-I"
      },
      "labels_anchors": false,
      "latex_user_defs": false,
      "report_style_numbering": false,
      "user_envs_cfg": false
    },
    "colab": {
      "provenance": [],
      "include_colab_link": true
    }
  },
  "nbformat": 4,
  "nbformat_minor": 0
}