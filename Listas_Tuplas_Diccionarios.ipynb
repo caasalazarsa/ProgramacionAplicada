{
  "nbformat": 4,
  "nbformat_minor": 0,
  "metadata": {
    "colab": {
      "provenance": [],
      "authorship_tag": "ABX9TyNoxDk3tId0oPCrS4rQlKXT",
      "include_colab_link": true
    },
    "kernelspec": {
      "name": "python3",
      "display_name": "Python 3"
    },
    "language_info": {
      "name": "python"
    }
  },
  "cells": [
    {
      "cell_type": "markdown",
      "metadata": {
        "id": "view-in-github",
        "colab_type": "text"
      },
      "source": [
        "<a href=\"https://colab.research.google.com/github/caasalazarsa/ProgramacionAplicada/blob/main/Listas_Tuplas_Diccionarios.ipynb\" target=\"_parent\"><img src=\"https://colab.research.google.com/assets/colab-badge.svg\" alt=\"Open In Colab\"/></a>"
      ]
    },
    {
      "cell_type": "markdown",
      "source": [
        "# Listas, Tuplas y Diccionarios\n",
        "\n",
        "Sacado de: https://aprendeconalf.es/docencia/python/manual/\n",
        "\n",
        "\n",
        "\n",
        "Algunas de las colecciones más utilizadas en programación son las Listas, las tuplas y los diccionarios, a continaución se enlistan sus principales características:\n",
        "\n",
        "\n",
        "\n",
        "*   Listas: Son colecciones de elementos con un orden establecido, pueden contener cualquier tipo de dato y son mutables, esto último significa que se pueden modificar mediante instrucciones en el código. Se construyen por medio de los corchetes \\[ \\] y los elementos se separan por comas, se puede tener igualmente una lista de listas.\n",
        "*   Tuplas: Son bastante similares a las listas, la diferencia principal es que no son mutables. Las tuplas se construyen por medio de parentesis \\( \\)\n",
        "*   Diccionarios: Los diccionarios se diferencian de las listas y las tuplas ya que no cuentan con un orden preestablecido, también para almacenar el dato es necesario un componente de llave con el cual se sabe la posición del dato. Los diccionarios se construyen mediante corchetes \\{ \\}\n",
        "\n",
        "\n"
      ],
      "metadata": {
        "id": "OCNQ4GAFVu-h"
      }
    },
    {
      "cell_type": "code",
      "source": [
        "#Ejemplo de una lista\n",
        "\n",
        "lista1=[1,2,3,4,5]\n",
        "print(lista1)\n",
        "print(type(lista1))\n",
        "lista1[2]=5\n",
        "print(lista1)\n",
        "print(lista1[1])\n",
        "\n",
        "print(list(filter(lambda x: (x==1 or x==4),lista1)))\n",
        "#Comando para sacar el ultimo dato\n",
        "print(\"ultimo dato\")\n",
        "print(lista1[-1])\n",
        "print(\"penultimo dato\")\n",
        "print(lista1[-2])\n",
        "\n",
        "#Sublistas el primer indice se incluye, el segundo no\n",
        "print(lista1[3:5])\n",
        "print(lista1[0:3])\n",
        "\n",
        "print()\n",
        "#Ejemplo de una tupla\n",
        "\n",
        "tupla1=(1,2,3)\n",
        "print(type(tupla1))\n",
        "try: \n",
        "  tupla1[1]=10\n",
        "  print(tupla1)\n",
        "\n",
        "except:\n",
        "  print(\"no se puede modificar la tupla\")\n",
        "\n",
        "print(tupla1)\n",
        "print(tupla1[2])\n",
        "\n",
        "print()\n",
        "#Ejemplo de un diccionario\n",
        "\n",
        "dic1={}\n",
        "\n",
        "dic1[\"llave1\"]=\"dato1\"\n",
        "dic1[\"llave2\"]=\"dato2\"\n",
        "\n",
        "print(dic1)\n",
        "print(dic1[\"llave1\"])"
      ],
      "metadata": {
        "colab": {
          "base_uri": "https://localhost:8080/"
        },
        "id": "eF0Nuek4YfWm",
        "outputId": "c32a5223-c373-4205-9c29-c19541e7967f"
      },
      "execution_count": null,
      "outputs": [
        {
          "output_type": "stream",
          "name": "stdout",
          "text": [
            "[1, 2, 3, 4, 5]\n",
            "<class 'list'>\n",
            "[1, 2, 5, 4, 5]\n",
            "2\n",
            "[1, 4]\n",
            "ultimo dato\n",
            "5\n",
            "penultimo dato\n",
            "4\n",
            "[4, 5]\n",
            "[1, 2, 5]\n",
            "\n",
            "<class 'tuple'>\n",
            "no se puede modificar la tupla\n",
            "(1, 2, 3)\n",
            "3\n",
            "\n",
            "{'llave1': 'dato1', 'llave2': 'dato2'}\n",
            "dato1\n"
          ]
        }
      ]
    },
    {
      "cell_type": "code",
      "source": [
        "persona={}\n",
        "print(type(persona))\n",
        "persona['nombre']='Carlos'\n",
        "persona['edad']=28\n",
        "print(persona)\n",
        "print(persona['nombre'])"
      ],
      "metadata": {
        "colab": {
          "base_uri": "https://localhost:8080/"
        },
        "id": "3R5ohlfDV27S",
        "outputId": "58b314c6-ddbc-483e-c561-190eeb9678fd"
      },
      "execution_count": null,
      "outputs": [
        {
          "output_type": "stream",
          "name": "stdout",
          "text": [
            "<class 'dict'>\n",
            "{'nombre': 'Carlos', 'edad': 28}\n",
            "Carlos\n"
          ]
        }
      ]
    },
    {
      "cell_type": "markdown",
      "source": [
        "# Funciones preconstruidas para listas:\n",
        "\n",
        "* len(l) : Devuelve el número de elementos de la lista l.\n",
        "* min(l) : Devuelve el mínimo elemento de la lista l siempre que los datos sean comparables.\n",
        "* max(l) : Devuelve el máximo elemento de la lista l siempre que los datos sean comparables.\n",
        "* sum(l) : Devuelve la suma de los elementos de la lista l, siempre que los datos se puedan sumar.\n",
        "* dato in l : Devuelve True si el dato dato pertenece a la lista l y False en caso contrario.\n",
        "* l.index(dato) : Devuelve la posición que ocupa en la lista l el primer elemento con valor dato.\n",
        "* l.count(dato) : Devuelve el número de veces que el valor dato está contenido en la lista l.\n",
        "* all(l) : Devuelve True si todos los elementos de la lista l son True y False en caso contrario.\n",
        "* any(l) : Devuelve True si algún elemento de la lista l es True y False en caso contrario"
      ],
      "metadata": {
        "id": "T4pW5TjoYIpD"
      }
    },
    {
      "cell_type": "code",
      "source": [
        "listatest=[2,3,42,2,44,56,2]\n",
        "print(len(listatest))\n",
        "print(max(listatest))\n",
        "print(min(listatest))\n",
        "print(sum(listatest))\n",
        "print(4 in listatest)\n",
        "print(listatest.index(2))\n",
        "for i in range(len(listatest)):\n",
        "  if listatest[i]==2:\n",
        "    print(i)\n",
        "print(\"numero de veces que aparece 44:\",listatest.count(44))\n",
        "print(\"numero de veces que aparece 5:\",listatest.count(5))"
      ],
      "metadata": {
        "colab": {
          "base_uri": "https://localhost:8080/"
        },
        "id": "Nz2ec3BwWwnP",
        "outputId": "81b28ffb-69fc-4e5a-a4df-96d9a333951d"
      },
      "execution_count": null,
      "outputs": [
        {
          "output_type": "stream",
          "name": "stdout",
          "text": [
            "7\n",
            "56\n",
            "2\n",
            "151\n",
            "False\n",
            "0\n",
            "0\n",
            "3\n",
            "6\n",
            "numero de veces que aparece 44: 1\n",
            "numero de veces que aparece 5: 0\n"
          ]
        }
      ]
    },
    {
      "cell_type": "code",
      "source": [
        "help(list)"
      ],
      "metadata": {
        "colab": {
          "base_uri": "https://localhost:8080/"
        },
        "id": "Dgs_DXrlb88W",
        "outputId": "7eb8f0c2-0b0d-422d-ab08-6f00105ab3c2"
      },
      "execution_count": null,
      "outputs": [
        {
          "output_type": "stream",
          "name": "stdout",
          "text": [
            "Help on class list in module builtins:\n",
            "\n",
            "class list(object)\n",
            " |  list(iterable=(), /)\n",
            " |  \n",
            " |  Built-in mutable sequence.\n",
            " |  \n",
            " |  If no argument is given, the constructor creates a new empty list.\n",
            " |  The argument must be an iterable if specified.\n",
            " |  \n",
            " |  Methods defined here:\n",
            " |  \n",
            " |  __add__(self, value, /)\n",
            " |      Return self+value.\n",
            " |  \n",
            " |  __contains__(self, key, /)\n",
            " |      Return key in self.\n",
            " |  \n",
            " |  __delitem__(self, key, /)\n",
            " |      Delete self[key].\n",
            " |  \n",
            " |  __eq__(self, value, /)\n",
            " |      Return self==value.\n",
            " |  \n",
            " |  __ge__(self, value, /)\n",
            " |      Return self>=value.\n",
            " |  \n",
            " |  __getattribute__(self, name, /)\n",
            " |      Return getattr(self, name).\n",
            " |  \n",
            " |  __getitem__(...)\n",
            " |      x.__getitem__(y) <==> x[y]\n",
            " |  \n",
            " |  __gt__(self, value, /)\n",
            " |      Return self>value.\n",
            " |  \n",
            " |  __iadd__(self, value, /)\n",
            " |      Implement self+=value.\n",
            " |  \n",
            " |  __imul__(self, value, /)\n",
            " |      Implement self*=value.\n",
            " |  \n",
            " |  __init__(self, /, *args, **kwargs)\n",
            " |      Initialize self.  See help(type(self)) for accurate signature.\n",
            " |  \n",
            " |  __iter__(self, /)\n",
            " |      Implement iter(self).\n",
            " |  \n",
            " |  __le__(self, value, /)\n",
            " |      Return self<=value.\n",
            " |  \n",
            " |  __len__(self, /)\n",
            " |      Return len(self).\n",
            " |  \n",
            " |  __lt__(self, value, /)\n",
            " |      Return self<value.\n",
            " |  \n",
            " |  __mul__(self, value, /)\n",
            " |      Return self*value.\n",
            " |  \n",
            " |  __ne__(self, value, /)\n",
            " |      Return self!=value.\n",
            " |  \n",
            " |  __repr__(self, /)\n",
            " |      Return repr(self).\n",
            " |  \n",
            " |  __reversed__(self, /)\n",
            " |      Return a reverse iterator over the list.\n",
            " |  \n",
            " |  __rmul__(self, value, /)\n",
            " |      Return value*self.\n",
            " |  \n",
            " |  __setitem__(self, key, value, /)\n",
            " |      Set self[key] to value.\n",
            " |  \n",
            " |  __sizeof__(self, /)\n",
            " |      Return the size of the list in memory, in bytes.\n",
            " |  \n",
            " |  append(self, object, /)\n",
            " |      Append object to the end of the list.\n",
            " |  \n",
            " |  clear(self, /)\n",
            " |      Remove all items from list.\n",
            " |  \n",
            " |  copy(self, /)\n",
            " |      Return a shallow copy of the list.\n",
            " |  \n",
            " |  count(self, value, /)\n",
            " |      Return number of occurrences of value.\n",
            " |  \n",
            " |  extend(self, iterable, /)\n",
            " |      Extend list by appending elements from the iterable.\n",
            " |  \n",
            " |  index(self, value, start=0, stop=9223372036854775807, /)\n",
            " |      Return first index of value.\n",
            " |      \n",
            " |      Raises ValueError if the value is not present.\n",
            " |  \n",
            " |  insert(self, index, object, /)\n",
            " |      Insert object before index.\n",
            " |  \n",
            " |  pop(self, index=-1, /)\n",
            " |      Remove and return item at index (default last).\n",
            " |      \n",
            " |      Raises IndexError if list is empty or index is out of range.\n",
            " |  \n",
            " |  remove(self, value, /)\n",
            " |      Remove first occurrence of value.\n",
            " |      \n",
            " |      Raises ValueError if the value is not present.\n",
            " |  \n",
            " |  reverse(self, /)\n",
            " |      Reverse *IN PLACE*.\n",
            " |  \n",
            " |  sort(self, /, *, key=None, reverse=False)\n",
            " |      Stable sort *IN PLACE*.\n",
            " |  \n",
            " |  ----------------------------------------------------------------------\n",
            " |  Static methods defined here:\n",
            " |  \n",
            " |  __new__(*args, **kwargs) from builtins.type\n",
            " |      Create and return a new object.  See help(type) for accurate signature.\n",
            " |  \n",
            " |  ----------------------------------------------------------------------\n",
            " |  Data and other attributes defined here:\n",
            " |  \n",
            " |  __hash__ = None\n",
            "\n"
          ]
        }
      ]
    },
    {
      "cell_type": "code",
      "execution_count": null,
      "metadata": {
        "colab": {
          "base_uri": "https://localhost:8080/"
        },
        "id": "VDJwH7QEVseX",
        "outputId": "39c1b210-1398-46f8-a1c8-b8a9da47118c"
      },
      "outputs": [
        {
          "output_type": "stream",
          "name": "stdout",
          "text": [
            "4\n",
            "1\n",
            "3\n",
            "8\n",
            "False\n",
            "3\n",
            "0\n"
          ]
        }
      ],
      "source": [
        "a = [1, 2, 2, 3]\n",
        "\n",
        "print(len(a))\n",
        "print(min(a))\n",
        "print(max(a))\n",
        "print(sum(a))\n",
        "print(4 in a)\n",
        "try:\n",
        "  print(a.index(3))\n",
        "except ValueError:\n",
        "  print(\"número no disponible en la lista\")\n",
        "print(a.count(5))\n",
        "\n",
        "\n"
      ]
    },
    {
      "cell_type": "markdown",
      "source": [
        "# Funciones para modificar listas \n",
        "\n",
        "* l1 + l2 : Crea una nueva lista concatenan los elementos de la listas l1 y l2.\n",
        "* l.append(dato) : Añade dato al final de la lista l.\n",
        "* l.extend(sequencia) : Añade los datos de sequencia al final de la lista l.\n",
        "* l.insert(índice, dato) : Inserta dato en la posición índice de la lista l y desplaza los elementos una posición a partir de la posición índice.\n",
        "* l.remove(dato) : Elimina el primer elemento con valor dato en la lista l y desplaza los que están por detrás de él una posición hacia delante.\n",
        "* l.pop([índice]) : Devuelve el dato en la posición índice y lo elimina de la lista l, desplazando los elementos por detrás de él una posición hacia delante.\n",
        "* l.sort() : Ordena los elementos de la lista l de acuerdo al orden predefinido, siempre que los elementos sean comparables.\n",
        "* l.reverse() : invierte el orden de los elementos de la lista l."
      ],
      "metadata": {
        "id": "pgghbSEFbLwv"
      }
    },
    {
      "cell_type": "code",
      "source": [
        "a = [1, 3]\n",
        "b = [2 , 4, 6]\n",
        "a.append(5)\n",
        "print(a)\n",
        "a.remove(3)\n",
        "print(a)\n",
        "a.insert(1, 3)\n",
        "print(a)\n",
        "[1, 3, 5]\n",
        "print(b.pop())\n",
        "print(b)\n",
        "c = a + b\n",
        "print(c)\n",
        "[1, 3, 5, 2, 4]\n",
        "c.sort()\n",
        "print(c)\n",
        "[1, 2, 3, 4, 5]\n",
        "c.reverse()\n",
        "print(c)\n",
        "[5, 4, 3, 2, 1]"
      ],
      "metadata": {
        "colab": {
          "base_uri": "https://localhost:8080/"
        },
        "id": "SF1mvmBIbdFO",
        "outputId": "a85235a6-4669-46c8-b293-7e593bca7951"
      },
      "execution_count": null,
      "outputs": [
        {
          "output_type": "stream",
          "name": "stdout",
          "text": [
            "[1, 3, 5]\n",
            "[1, 5]\n",
            "[1, 3, 5]\n",
            "6\n",
            "[2, 4]\n",
            "[1, 3, 5, 2, 4]\n",
            "[1, 2, 3, 4, 5]\n",
            "[5, 4, 3, 2, 1]\n"
          ]
        },
        {
          "output_type": "execute_result",
          "data": {
            "text/plain": [
              "[5, 4, 3, 2, 1]"
            ]
          },
          "metadata": {},
          "execution_count": 18
        }
      ]
    },
    {
      "cell_type": "markdown",
      "source": [
        "# Copia de listas\n",
        "\n",
        "* Por referencia: Referencia a la misma posición de memoria de la lista original por lo que cualquier cambio que se haga en la copia, se evidencia en la lista original\n",
        "* Por valor: Crea una copia de la lista y se le asigna una posición de memoria diferente."
      ],
      "metadata": {
        "id": "5ZIwwUJabL3u"
      }
    },
    {
      "cell_type": "code",
      "source": [
        "a = [1, 2, 3]\n",
        "# copia por referencia\n",
        "b = a\n",
        "print(b)\n",
        "b.remove(2)\n",
        "print(b)\n",
        "print(a)\n",
        "\n",
        "\n",
        "\n",
        "a = [1, 2, 3]\n",
        "# copia por valor\n",
        "b = list(a)\n",
        "print(b)\n",
        "b.remove(2)\n",
        "print(b)\n",
        "print(a)"
      ],
      "metadata": {
        "colab": {
          "base_uri": "https://localhost:8080/"
        },
        "id": "wfObjbE3bdKN",
        "outputId": "a88b90d2-e873-40c9-c5dd-081588996ba5"
      },
      "execution_count": null,
      "outputs": [
        {
          "output_type": "stream",
          "name": "stdout",
          "text": [
            "[1, 2, 3]\n",
            "[1, 3]\n",
            "[1, 3]\n",
            "[1, 2, 3]\n",
            "[1, 3]\n",
            "[1, 2, 3]\n"
          ]
        }
      ]
    },
    {
      "cell_type": "markdown",
      "source": [
        "# Funciones disponibles en tuplas\n",
        "\n",
        "Estas funciones funcionan igual que en el caso de las listas, sin embargo como se puede ver las operaciones que se pueden realizar con las tuplas son menores.\n",
        "\n",
        "* len(t)\n",
        "* t.index(value)\n",
        "* value in t\n",
        "\n"
      ],
      "metadata": {
        "id": "nax-DxSvdQ9G"
      }
    },
    {
      "cell_type": "code",
      "source": [
        "a = (1, 2, 3)\n",
        "print(a[1])\n",
        "print(len(a))\n",
        "\n",
        "print(a.index(3))\n",
        "\n",
        "0 in a\n",
        "\n",
        "b = ((1, 2, 3), (4, 5, 6))\n",
        "print(b[1])\n",
        "print(b[1][2])"
      ],
      "metadata": {
        "colab": {
          "base_uri": "https://localhost:8080/"
        },
        "id": "d_Xs3MU4dsIx",
        "outputId": "7fdd30ee-169b-4e62-d746-4e74b0c0690c"
      },
      "execution_count": null,
      "outputs": [
        {
          "output_type": "stream",
          "name": "stdout",
          "text": [
            "2\n",
            "3\n",
            "2\n",
            "(4, 5, 6)\n",
            "6\n"
          ]
        }
      ]
    },
    {
      "cell_type": "markdown",
      "source": [
        "\n",
        "\n",
        "1.   Construir un programa que solicite entradas de usuario por consola, el usuario ingresa la cantidad de materias que cursa, luego le solicita que ingrese el nombre de cada asignatura que cursa y luego imprime una lista con las materias.\n",
        "2.   Construir un programa que, usando la lista construida en el programa anterior le pregunte al usuario que nota espera sacar para cada materia en el primer corte.\n",
        "3. Construir un programa que, revisando la lista de notas de punto anterior le muestre dos listas con las materias aprobadas y las materias reprobadas\n",
        "4. Construir un programa que reciba una palabra o frase del usuario y verifique si lo que fue ingresado es un palindromo\n",
        "5. Construir un programa que reciba dos vectores ingresados por el usuario y le retorne el producto escalar\n",
        "6. Construir un programa que le solicite al usuario un conjunto de números, el programa recibirá números hasta que el usuario escriba la palabra \"fin\" en la consola, luego de eso el sistema le devolverá en consola la media y la desviación estandar de los datos (Para facilitar el trabajo puede buscar y usar librerías)\n",
        "7. Construir un programa al que se le ingresa el monto a pagar por el usuario, luego recibe la cantidad de dinero que ingresó el usuario y le entrega el cambio en las denominaciones colombianas más grandes que pueda.\n",
        "Ejemplo:\\\n",
        "Monto a pagar 16700\\\n",
        "Monto con el que se paga: 20000\\\n",
        "El cambio es:\\\n",
        "1 billete de 2000\\\n",
        "1 moneda de 1000\\\n",
        "1 moneda de 200\\\n",
        "1 moneda de 100\n",
        "\n",
        "\n"
      ],
      "metadata": {
        "id": "AjFHoL3ze6I4"
      }
    },
    {
      "cell_type": "code",
      "source": [
        "listamaterias=[]\n",
        "\n",
        "num_materias=int(input('ingrese la cantidad de materias: '))\n",
        "\n",
        "for i in range(num_materias):\n",
        "  materia=input('ingrese el nombre de la materia '+ str(i+1)+': ')\n",
        "  listamaterias.append(materia)\n",
        "\n",
        "print(listamaterias)"
      ],
      "metadata": {
        "id": "XFWynOBxeYSN",
        "colab": {
          "base_uri": "https://localhost:8080/"
        },
        "outputId": "2715bc37-4e4c-4a89-abcd-92401a92c225"
      },
      "execution_count": null,
      "outputs": [
        {
          "output_type": "stream",
          "name": "stdout",
          "text": [
            "ingrese la cantidad de materias: 4\n",
            "ingrese el nombre de la materia 1: Calculo\n",
            "ingrese el nombre de la materia 2: ProgAplicada\n",
            "ingrese el nombre de la materia 3: Base de datos\n",
            "ingrese el nombre de la materia 4: Const y Arq de software\n",
            "['Calculo', 'ProgAplicada', 'Base de datos', 'Const y Arq de software']\n"
          ]
        }
      ]
    },
    {
      "cell_type": "code",
      "source": [
        "notas=[]\n",
        "\n",
        "for i in range(len(listamaterias)):\n",
        "  while True:\n",
        "    notastring=input(\"ingrese la nota que espera de \"+listamaterias[i]+': ')\n",
        "    notastring=notastring.replace(',','.')\n",
        "    nota=float(notastring)\n",
        "    \n",
        "    if nota>5 or nota<0:\n",
        "      print(\"ingrese una nota valida\")\n",
        "    else: \n",
        "        notas.append(nota)\n",
        "        break\n",
        "\n",
        "print(notas)"
      ],
      "metadata": {
        "colab": {
          "base_uri": "https://localhost:8080/"
        },
        "id": "JeJzDdM9fdiP",
        "outputId": "1014672c-78bc-4c01-9466-92f769a251bb"
      },
      "execution_count": null,
      "outputs": [
        {
          "output_type": "stream",
          "name": "stdout",
          "text": [
            "ingrese la nota que espera de Calculo: 4.5\n",
            "ingrese la nota que espera de ProgAplicada: 3.2\n",
            "ingrese la nota que espera de Base de datos: 2.0\n",
            "ingrese la nota que espera de Const y Arq de software: 2.4\n",
            "[4.5, 3.2, 2.0, 2.4]\n"
          ]
        }
      ]
    },
    {
      "cell_type": "code",
      "source": [
        "aprobadas=[]\n",
        "reprobadas=[]\n",
        "\n",
        "for i in range(len(listamaterias)):\n",
        "  if notas[i]<3:\n",
        "    reprobadas.append(listamaterias[i])\n",
        "  else:\n",
        "    aprobadas.append(listamaterias[i])\n",
        "\n",
        "print(\"Materias aprobadas\",aprobadas)\n",
        "print(\"Materias reprobadas\",reprobadas)\n"
      ],
      "metadata": {
        "colab": {
          "base_uri": "https://localhost:8080/"
        },
        "id": "vaS0X4c2nLNF",
        "outputId": "ce6140b9-2d1f-4777-bbf8-281ad85b0ba0"
      },
      "execution_count": null,
      "outputs": [
        {
          "output_type": "stream",
          "name": "stdout",
          "text": [
            "Materias aprobadas ['Calculo', 'ProgAplicada']\n",
            "Materias reprobadas ['Base de datos', 'Const y Arq de software']\n"
          ]
        }
      ]
    },
    {
      "cell_type": "code",
      "source": [
        "#unos valores separados por comas en string\n",
        "listastr='1,2,3'\n",
        "#usamos el metodo split indicando que los valores se separan por comas\n",
        "lista=listastr.split(',')\n",
        "#convertimos los numeros guardados en string a float\n",
        "lista=[float(element) for element in lista]\n",
        "\n",
        "print(lista)"
      ],
      "metadata": {
        "colab": {
          "base_uri": "https://localhost:8080/"
        },
        "id": "g0px0bzTV8R8",
        "outputId": "359cd968-1383-41d9-f160-003fa0ed83d2"
      },
      "execution_count": null,
      "outputs": [
        {
          "output_type": "stream",
          "name": "stdout",
          "text": [
            "[1, 2, 3]\n"
          ]
        }
      ]
    },
    {
      "cell_type": "code",
      "source": [
        "palabra=\"Anita lava la tina\"\n",
        "palabra=palabra.lower()\n",
        "palabra=palabra.replace(' ','')\n",
        "palabralist=list(palabra)\n",
        "palabralist2=palabralist.copy()\n",
        "palabralist2.reverse()\n",
        "print(palabralist2)\n",
        "print(palabralist)\n",
        "\n",
        "if palabralist == palabralist2:\n",
        "  print(\"es palindromo\")\n",
        "else:\n",
        "  print(\"no es palindromo\")\n",
        "\n"
      ],
      "metadata": {
        "colab": {
          "base_uri": "https://localhost:8080/"
        },
        "id": "jUO4TeEKqCko",
        "outputId": "40cdfa67-bd5e-4050-9519-9889a0bde442"
      },
      "execution_count": null,
      "outputs": [
        {
          "output_type": "stream",
          "name": "stdout",
          "text": [
            "['a', 'n', 'i', 't', 'a', 'l', 'a', 'v', 'a', 'l', 'a', 't', 'i', 'n', 'a']\n",
            "['a', 'n', 'i', 't', 'a', 'l', 'a', 'v', 'a', 'l', 'a', 't', 'i', 'n', 'a']\n",
            "es palindromo\n"
          ]
        }
      ]
    },
    {
      "cell_type": "code",
      "source": [
        "help(str)"
      ],
      "metadata": {
        "colab": {
          "base_uri": "https://localhost:8080/"
        },
        "id": "akWSLB06reSl",
        "outputId": "3622bccf-1c78-47f5-8dd1-cc9290e6c4c3"
      },
      "execution_count": null,
      "outputs": [
        {
          "output_type": "stream",
          "name": "stdout",
          "text": [
            "Help on class str in module builtins:\n",
            "\n",
            "class str(object)\n",
            " |  str(object='') -> str\n",
            " |  str(bytes_or_buffer[, encoding[, errors]]) -> str\n",
            " |  \n",
            " |  Create a new string object from the given object. If encoding or\n",
            " |  errors is specified, then the object must expose a data buffer\n",
            " |  that will be decoded using the given encoding and error handler.\n",
            " |  Otherwise, returns the result of object.__str__() (if defined)\n",
            " |  or repr(object).\n",
            " |  encoding defaults to sys.getdefaultencoding().\n",
            " |  errors defaults to 'strict'.\n",
            " |  \n",
            " |  Methods defined here:\n",
            " |  \n",
            " |  __add__(self, value, /)\n",
            " |      Return self+value.\n",
            " |  \n",
            " |  __contains__(self, key, /)\n",
            " |      Return key in self.\n",
            " |  \n",
            " |  __eq__(self, value, /)\n",
            " |      Return self==value.\n",
            " |  \n",
            " |  __format__(self, format_spec, /)\n",
            " |      Return a formatted version of the string as described by format_spec.\n",
            " |  \n",
            " |  __ge__(self, value, /)\n",
            " |      Return self>=value.\n",
            " |  \n",
            " |  __getattribute__(self, name, /)\n",
            " |      Return getattr(self, name).\n",
            " |  \n",
            " |  __getitem__(self, key, /)\n",
            " |      Return self[key].\n",
            " |  \n",
            " |  __getnewargs__(...)\n",
            " |  \n",
            " |  __gt__(self, value, /)\n",
            " |      Return self>value.\n",
            " |  \n",
            " |  __hash__(self, /)\n",
            " |      Return hash(self).\n",
            " |  \n",
            " |  __iter__(self, /)\n",
            " |      Implement iter(self).\n",
            " |  \n",
            " |  __le__(self, value, /)\n",
            " |      Return self<=value.\n",
            " |  \n",
            " |  __len__(self, /)\n",
            " |      Return len(self).\n",
            " |  \n",
            " |  __lt__(self, value, /)\n",
            " |      Return self<value.\n",
            " |  \n",
            " |  __mod__(self, value, /)\n",
            " |      Return self%value.\n",
            " |  \n",
            " |  __mul__(self, value, /)\n",
            " |      Return self*value.\n",
            " |  \n",
            " |  __ne__(self, value, /)\n",
            " |      Return self!=value.\n",
            " |  \n",
            " |  __repr__(self, /)\n",
            " |      Return repr(self).\n",
            " |  \n",
            " |  __rmod__(self, value, /)\n",
            " |      Return value%self.\n",
            " |  \n",
            " |  __rmul__(self, value, /)\n",
            " |      Return value*self.\n",
            " |  \n",
            " |  __sizeof__(self, /)\n",
            " |      Return the size of the string in memory, in bytes.\n",
            " |  \n",
            " |  __str__(self, /)\n",
            " |      Return str(self).\n",
            " |  \n",
            " |  capitalize(self, /)\n",
            " |      Return a capitalized version of the string.\n",
            " |      \n",
            " |      More specifically, make the first character have upper case and the rest lower\n",
            " |      case.\n",
            " |  \n",
            " |  casefold(self, /)\n",
            " |      Return a version of the string suitable for caseless comparisons.\n",
            " |  \n",
            " |  center(self, width, fillchar=' ', /)\n",
            " |      Return a centered string of length width.\n",
            " |      \n",
            " |      Padding is done using the specified fill character (default is a space).\n",
            " |  \n",
            " |  count(...)\n",
            " |      S.count(sub[, start[, end]]) -> int\n",
            " |      \n",
            " |      Return the number of non-overlapping occurrences of substring sub in\n",
            " |      string S[start:end].  Optional arguments start and end are\n",
            " |      interpreted as in slice notation.\n",
            " |  \n",
            " |  encode(self, /, encoding='utf-8', errors='strict')\n",
            " |      Encode the string using the codec registered for encoding.\n",
            " |      \n",
            " |      encoding\n",
            " |        The encoding in which to encode the string.\n",
            " |      errors\n",
            " |        The error handling scheme to use for encoding errors.\n",
            " |        The default is 'strict' meaning that encoding errors raise a\n",
            " |        UnicodeEncodeError.  Other possible values are 'ignore', 'replace' and\n",
            " |        'xmlcharrefreplace' as well as any other name registered with\n",
            " |        codecs.register_error that can handle UnicodeEncodeErrors.\n",
            " |  \n",
            " |  endswith(...)\n",
            " |      S.endswith(suffix[, start[, end]]) -> bool\n",
            " |      \n",
            " |      Return True if S ends with the specified suffix, False otherwise.\n",
            " |      With optional start, test S beginning at that position.\n",
            " |      With optional end, stop comparing S at that position.\n",
            " |      suffix can also be a tuple of strings to try.\n",
            " |  \n",
            " |  expandtabs(self, /, tabsize=8)\n",
            " |      Return a copy where all tab characters are expanded using spaces.\n",
            " |      \n",
            " |      If tabsize is not given, a tab size of 8 characters is assumed.\n",
            " |  \n",
            " |  find(...)\n",
            " |      S.find(sub[, start[, end]]) -> int\n",
            " |      \n",
            " |      Return the lowest index in S where substring sub is found,\n",
            " |      such that sub is contained within S[start:end].  Optional\n",
            " |      arguments start and end are interpreted as in slice notation.\n",
            " |      \n",
            " |      Return -1 on failure.\n",
            " |  \n",
            " |  format(...)\n",
            " |      S.format(*args, **kwargs) -> str\n",
            " |      \n",
            " |      Return a formatted version of S, using substitutions from args and kwargs.\n",
            " |      The substitutions are identified by braces ('{' and '}').\n",
            " |  \n",
            " |  format_map(...)\n",
            " |      S.format_map(mapping) -> str\n",
            " |      \n",
            " |      Return a formatted version of S, using substitutions from mapping.\n",
            " |      The substitutions are identified by braces ('{' and '}').\n",
            " |  \n",
            " |  index(...)\n",
            " |      S.index(sub[, start[, end]]) -> int\n",
            " |      \n",
            " |      Return the lowest index in S where substring sub is found, \n",
            " |      such that sub is contained within S[start:end].  Optional\n",
            " |      arguments start and end are interpreted as in slice notation.\n",
            " |      \n",
            " |      Raises ValueError when the substring is not found.\n",
            " |  \n",
            " |  isalnum(self, /)\n",
            " |      Return True if the string is an alpha-numeric string, False otherwise.\n",
            " |      \n",
            " |      A string is alpha-numeric if all characters in the string are alpha-numeric and\n",
            " |      there is at least one character in the string.\n",
            " |  \n",
            " |  isalpha(self, /)\n",
            " |      Return True if the string is an alphabetic string, False otherwise.\n",
            " |      \n",
            " |      A string is alphabetic if all characters in the string are alphabetic and there\n",
            " |      is at least one character in the string.\n",
            " |  \n",
            " |  isascii(self, /)\n",
            " |      Return True if all characters in the string are ASCII, False otherwise.\n",
            " |      \n",
            " |      ASCII characters have code points in the range U+0000-U+007F.\n",
            " |      Empty string is ASCII too.\n",
            " |  \n",
            " |  isdecimal(self, /)\n",
            " |      Return True if the string is a decimal string, False otherwise.\n",
            " |      \n",
            " |      A string is a decimal string if all characters in the string are decimal and\n",
            " |      there is at least one character in the string.\n",
            " |  \n",
            " |  isdigit(self, /)\n",
            " |      Return True if the string is a digit string, False otherwise.\n",
            " |      \n",
            " |      A string is a digit string if all characters in the string are digits and there\n",
            " |      is at least one character in the string.\n",
            " |  \n",
            " |  isidentifier(self, /)\n",
            " |      Return True if the string is a valid Python identifier, False otherwise.\n",
            " |      \n",
            " |      Use keyword.iskeyword() to test for reserved identifiers such as \"def\" and\n",
            " |      \"class\".\n",
            " |  \n",
            " |  islower(self, /)\n",
            " |      Return True if the string is a lowercase string, False otherwise.\n",
            " |      \n",
            " |      A string is lowercase if all cased characters in the string are lowercase and\n",
            " |      there is at least one cased character in the string.\n",
            " |  \n",
            " |  isnumeric(self, /)\n",
            " |      Return True if the string is a numeric string, False otherwise.\n",
            " |      \n",
            " |      A string is numeric if all characters in the string are numeric and there is at\n",
            " |      least one character in the string.\n",
            " |  \n",
            " |  isprintable(self, /)\n",
            " |      Return True if the string is printable, False otherwise.\n",
            " |      \n",
            " |      A string is printable if all of its characters are considered printable in\n",
            " |      repr() or if it is empty.\n",
            " |  \n",
            " |  isspace(self, /)\n",
            " |      Return True if the string is a whitespace string, False otherwise.\n",
            " |      \n",
            " |      A string is whitespace if all characters in the string are whitespace and there\n",
            " |      is at least one character in the string.\n",
            " |  \n",
            " |  istitle(self, /)\n",
            " |      Return True if the string is a title-cased string, False otherwise.\n",
            " |      \n",
            " |      In a title-cased string, upper- and title-case characters may only\n",
            " |      follow uncased characters and lowercase characters only cased ones.\n",
            " |  \n",
            " |  isupper(self, /)\n",
            " |      Return True if the string is an uppercase string, False otherwise.\n",
            " |      \n",
            " |      A string is uppercase if all cased characters in the string are uppercase and\n",
            " |      there is at least one cased character in the string.\n",
            " |  \n",
            " |  join(self, iterable, /)\n",
            " |      Concatenate any number of strings.\n",
            " |      \n",
            " |      The string whose method is called is inserted in between each given string.\n",
            " |      The result is returned as a new string.\n",
            " |      \n",
            " |      Example: '.'.join(['ab', 'pq', 'rs']) -> 'ab.pq.rs'\n",
            " |  \n",
            " |  ljust(self, width, fillchar=' ', /)\n",
            " |      Return a left-justified string of length width.\n",
            " |      \n",
            " |      Padding is done using the specified fill character (default is a space).\n",
            " |  \n",
            " |  lower(self, /)\n",
            " |      Return a copy of the string converted to lowercase.\n",
            " |  \n",
            " |  lstrip(self, chars=None, /)\n",
            " |      Return a copy of the string with leading whitespace removed.\n",
            " |      \n",
            " |      If chars is given and not None, remove characters in chars instead.\n",
            " |  \n",
            " |  partition(self, sep, /)\n",
            " |      Partition the string into three parts using the given separator.\n",
            " |      \n",
            " |      This will search for the separator in the string.  If the separator is found,\n",
            " |      returns a 3-tuple containing the part before the separator, the separator\n",
            " |      itself, and the part after it.\n",
            " |      \n",
            " |      If the separator is not found, returns a 3-tuple containing the original string\n",
            " |      and two empty strings.\n",
            " |  \n",
            " |  replace(self, old, new, count=-1, /)\n",
            " |      Return a copy with all occurrences of substring old replaced by new.\n",
            " |      \n",
            " |        count\n",
            " |          Maximum number of occurrences to replace.\n",
            " |          -1 (the default value) means replace all occurrences.\n",
            " |      \n",
            " |      If the optional argument count is given, only the first count occurrences are\n",
            " |      replaced.\n",
            " |  \n",
            " |  rfind(...)\n",
            " |      S.rfind(sub[, start[, end]]) -> int\n",
            " |      \n",
            " |      Return the highest index in S where substring sub is found,\n",
            " |      such that sub is contained within S[start:end].  Optional\n",
            " |      arguments start and end are interpreted as in slice notation.\n",
            " |      \n",
            " |      Return -1 on failure.\n",
            " |  \n",
            " |  rindex(...)\n",
            " |      S.rindex(sub[, start[, end]]) -> int\n",
            " |      \n",
            " |      Return the highest index in S where substring sub is found,\n",
            " |      such that sub is contained within S[start:end].  Optional\n",
            " |      arguments start and end are interpreted as in slice notation.\n",
            " |      \n",
            " |      Raises ValueError when the substring is not found.\n",
            " |  \n",
            " |  rjust(self, width, fillchar=' ', /)\n",
            " |      Return a right-justified string of length width.\n",
            " |      \n",
            " |      Padding is done using the specified fill character (default is a space).\n",
            " |  \n",
            " |  rpartition(self, sep, /)\n",
            " |      Partition the string into three parts using the given separator.\n",
            " |      \n",
            " |      This will search for the separator in the string, starting at the end. If\n",
            " |      the separator is found, returns a 3-tuple containing the part before the\n",
            " |      separator, the separator itself, and the part after it.\n",
            " |      \n",
            " |      If the separator is not found, returns a 3-tuple containing two empty strings\n",
            " |      and the original string.\n",
            " |  \n",
            " |  rsplit(self, /, sep=None, maxsplit=-1)\n",
            " |      Return a list of the words in the string, using sep as the delimiter string.\n",
            " |      \n",
            " |        sep\n",
            " |          The delimiter according which to split the string.\n",
            " |          None (the default value) means split according to any whitespace,\n",
            " |          and discard empty strings from the result.\n",
            " |        maxsplit\n",
            " |          Maximum number of splits to do.\n",
            " |          -1 (the default value) means no limit.\n",
            " |      \n",
            " |      Splits are done starting at the end of the string and working to the front.\n",
            " |  \n",
            " |  rstrip(self, chars=None, /)\n",
            " |      Return a copy of the string with trailing whitespace removed.\n",
            " |      \n",
            " |      If chars is given and not None, remove characters in chars instead.\n",
            " |  \n",
            " |  split(self, /, sep=None, maxsplit=-1)\n",
            " |      Return a list of the words in the string, using sep as the delimiter string.\n",
            " |      \n",
            " |      sep\n",
            " |        The delimiter according which to split the string.\n",
            " |        None (the default value) means split according to any whitespace,\n",
            " |        and discard empty strings from the result.\n",
            " |      maxsplit\n",
            " |        Maximum number of splits to do.\n",
            " |        -1 (the default value) means no limit.\n",
            " |  \n",
            " |  splitlines(self, /, keepends=False)\n",
            " |      Return a list of the lines in the string, breaking at line boundaries.\n",
            " |      \n",
            " |      Line breaks are not included in the resulting list unless keepends is given and\n",
            " |      true.\n",
            " |  \n",
            " |  startswith(...)\n",
            " |      S.startswith(prefix[, start[, end]]) -> bool\n",
            " |      \n",
            " |      Return True if S starts with the specified prefix, False otherwise.\n",
            " |      With optional start, test S beginning at that position.\n",
            " |      With optional end, stop comparing S at that position.\n",
            " |      prefix can also be a tuple of strings to try.\n",
            " |  \n",
            " |  strip(self, chars=None, /)\n",
            " |      Return a copy of the string with leading and trailing whitespace removed.\n",
            " |      \n",
            " |      If chars is given and not None, remove characters in chars instead.\n",
            " |  \n",
            " |  swapcase(self, /)\n",
            " |      Convert uppercase characters to lowercase and lowercase characters to uppercase.\n",
            " |  \n",
            " |  title(self, /)\n",
            " |      Return a version of the string where each word is titlecased.\n",
            " |      \n",
            " |      More specifically, words start with uppercased characters and all remaining\n",
            " |      cased characters have lower case.\n",
            " |  \n",
            " |  translate(self, table, /)\n",
            " |      Replace each character in the string using the given translation table.\n",
            " |      \n",
            " |        table\n",
            " |          Translation table, which must be a mapping of Unicode ordinals to\n",
            " |          Unicode ordinals, strings, or None.\n",
            " |      \n",
            " |      The table must implement lookup/indexing via __getitem__, for instance a\n",
            " |      dictionary or list.  If this operation raises LookupError, the character is\n",
            " |      left untouched.  Characters mapped to None are deleted.\n",
            " |  \n",
            " |  upper(self, /)\n",
            " |      Return a copy of the string converted to uppercase.\n",
            " |  \n",
            " |  zfill(self, width, /)\n",
            " |      Pad a numeric string with zeros on the left, to fill a field of the given width.\n",
            " |      \n",
            " |      The string is never truncated.\n",
            " |  \n",
            " |  ----------------------------------------------------------------------\n",
            " |  Static methods defined here:\n",
            " |  \n",
            " |  __new__(*args, **kwargs) from builtins.type\n",
            " |      Create and return a new object.  See help(type) for accurate signature.\n",
            " |  \n",
            " |  maketrans(x, y=None, z=None, /)\n",
            " |      Return a translation table usable for str.translate().\n",
            " |      \n",
            " |      If there is only one argument, it must be a dictionary mapping Unicode\n",
            " |      ordinals (integers) or characters to Unicode ordinals, strings or None.\n",
            " |      Character keys will be then converted to ordinals.\n",
            " |      If there are two arguments, they must be strings of equal length, and\n",
            " |      in the resulting dictionary, each character in x will be mapped to the\n",
            " |      character at the same position in y. If there is a third argument, it\n",
            " |      must be a string, whose characters will be mapped to None in the result.\n",
            "\n"
          ]
        }
      ]
    },
    {
      "cell_type": "markdown",
      "source": [
        "# Operaciones que no modifican un diccionario\n",
        "* len(d) : Devuelve el número de elementos del diccionario d.\n",
        "* min(d) : Devuelve la mínima clave del diccionario d siempre que las claves sean comparables.\n",
        "* max(d) : Devuelve la máxima clave del diccionario d siempre que las claves sean comparables.\n",
        "* sum(d) : Devuelve la suma de las claves del diccionario d, siempre que las claves se puedan sumar.\n",
        "* clave in d : Devuelve True si la clave clave pertenece al diccionario d y False en caso contrario.\n",
        "* d.keys() : Devuelve un iterador sobre las claves de un diccionario.\n",
        "* d.values() : Devuelve un iterador sobre los valores de un diccionario.\n",
        "* d.items() : Devuelve un iterador sobre los pares clave-valor de un diccionario."
      ],
      "metadata": {
        "id": "-oVcmrbloz3l"
      }
    },
    {
      "cell_type": "code",
      "source": [
        "a = {'nombre':'Carlos', 'clases':['Programación Aplicada', 'Const y Arq de software'] , 'email':'csalazarsa01@uninpahu.edu.co'}\n",
        "print('longitud del diccionario: ',len(a))\n",
        "print('llave más pequeña del diccionario ',min(a))\n",
        "print('la llave email está en a?','email' in a)\n",
        "print('iterador conteniendo llaves',a.keys())\n",
        "print('iterador conteniendo valores',a.values())\n",
        "print('iterador contendiento tuplas (llave,valor) ',a.items())\n"
      ],
      "metadata": {
        "colab": {
          "base_uri": "https://localhost:8080/"
        },
        "id": "BSotiyBppDTm",
        "outputId": "55d2ced3-7552-42aa-ee4f-03949d54e4f4"
      },
      "execution_count": null,
      "outputs": [
        {
          "output_type": "stream",
          "name": "stdout",
          "text": [
            "longitud del diccionario:  3\n",
            "llave más pequeña del diccionario  clases\n",
            "la llave email está en a? True\n",
            "iterador conteniendo llaves dict_keys(['nombre', 'clases', 'email'])\n",
            "iterador conteniendo valores dict_values(['Carlos', ['Programación Aplicada', 'Const y Arq de software'], 'csalazarsa01@uninpahu.edu.co'])\n",
            "iterador contendiento tuplas (llave,valor)  dict_items([('nombre', 'Carlos'), ('clases', ['Programación Aplicada', 'Const y Arq de software']), ('email', 'csalazarsa01@uninpahu.edu.co')])\n"
          ]
        }
      ]
    },
    {
      "cell_type": "markdown",
      "source": [
        "# Operaciones que modifican un diccionario\n",
        "* d[clave] = valor : Añade al diccionario d el par formado por la clave clave y el valor valor.\n",
        "d.update(d2). Añade los pares del diccionario d2 al diccionario d.\n",
        "* d.pop(clave, alternativo) : Devuelve del valor asociado a la clave clave del diccionario d y lo elimina del diccionario. Si la clave no está devuelve el valor alternativo.\n",
        "* d.popitem() : Devuelve la tupla formada por la clave y el valor del último par añadido al diccionario d y lo elimina del diccionario.\n",
        "* del d[clave] : Elimina del diccionario d el par con la clave clave.\n",
        "* d.clear() : Elimina todos los pares del diccionario d de manera que se queda vacío."
      ],
      "metadata": {
        "id": "bsl7W_I7qKZm"
      }
    },
    {
      "cell_type": "code",
      "source": [
        "a = {'nombre':'Carlos', 'clases':['Programación Aplicada', 'Const y Arq de software'] , 'email':'csalazarsa01@uninpahu.edu.co'}\n",
        "print('diccionario original ',a)\n",
        "a['universidad'] = 'Uninpahu'\n",
        "print('diccionario modificado',a)\n",
        "print('dato eliminado del diccionario',a.pop('email'))\n",
        "print('diccionario modificado',a)\n",
        "print('ultimo par de datos eliminado del diccionario',a.popitem())\n",
        "print('diccionario modificado',a)\n",
        "del a['clases']\n",
        "print('diccionario modificado',a)\n",
        "a.clear()\n",
        "print('diccionario a vacío',a)"
      ],
      "metadata": {
        "colab": {
          "base_uri": "https://localhost:8080/"
        },
        "id": "9n0PBvBJqeKa",
        "outputId": "5f108b1e-3fc0-45ef-a377-ef47a3af8ad2"
      },
      "execution_count": null,
      "outputs": [
        {
          "output_type": "stream",
          "name": "stdout",
          "text": [
            "diccionario original  {'nombre': 'Carlos', 'clases': ['Programación Aplicada', 'Const y Arq de software'], 'email': 'csalazarsa01@uninpahu.edu.co'}\n",
            "diccionario modificado {'nombre': 'Carlos', 'clases': ['Programación Aplicada', 'Const y Arq de software'], 'email': 'csalazarsa01@uninpahu.edu.co', 'universidad': 'Uninpahu'}\n",
            "dato eliminado del diccionario csalazarsa01@uninpahu.edu.co\n",
            "diccionario modificado {'nombre': 'Carlos', 'clases': ['Programación Aplicada', 'Const y Arq de software'], 'universidad': 'Uninpahu'}\n",
            "ultimo par de datos eliminado del diccionario ('universidad', 'Uninpahu')\n",
            "diccionario modificado {'nombre': 'Carlos', 'clases': ['Programación Aplicada', 'Const y Arq de software']}\n",
            "diccionario modificado {'nombre': 'Carlos'}\n",
            "diccionario a vacío {}\n"
          ]
        }
      ]
    },
    {
      "cell_type": "code",
      "source": [
        "a = {1:'A', 2:'B', 3:'C'}\n",
        "# copia por referencia\n",
        "b = a\n",
        "print('diccionario b original',b)\n",
        "b.pop(2)\n",
        "print('diccionario b modificado',b)\n",
        "print('diccionario a también modificado',a)\n",
        "\n",
        "a = {1:'A', 2:'B', 3:'C'}\n",
        "# copia por valor\n",
        "b = dict(a)\n",
        "print('diccionario b original',b)\n",
        "b.pop(2)\n",
        "print('diccionario b modificado',b)\n",
        "print('diccionario ya no se modifica',a)\n"
      ],
      "metadata": {
        "colab": {
          "base_uri": "https://localhost:8080/"
        },
        "id": "AGOwZLByr6E-",
        "outputId": "2c7802b9-8566-45e6-dad8-697b9afe001b"
      },
      "execution_count": null,
      "outputs": [
        {
          "output_type": "stream",
          "name": "stdout",
          "text": [
            "diccionario b original {1: 'A', 2: 'B', 3: 'C'}\n",
            "diccionario b modificado {1: 'A', 3: 'C'}\n",
            "diccionario a también modificado {1: 'A', 3: 'C'}\n",
            "diccionario b original {1: 'A', 2: 'B', 3: 'C'}\n",
            "diccionario b modificado {1: 'A', 3: 'C'}\n",
            "diccionario ya no se modifica {1: 'A', 2: 'B', 3: 'C'}\n"
          ]
        }
      ]
    },
    {
      "cell_type": "markdown",
      "source": [
        "# Ejercicios\n",
        "* Escribir un programa que guarde en una variable el diccionario {'Euro':'€', 'Dollar':'$', 'Yen':'¥'}, pregunte al usuario por una divisa y muestre su símbolo o un mensaje de aviso si la divisa no está en el diccionario.\n",
        "* Escribir un programa que pregunte al usuario su nombre, edad, dirección y teléfono y lo guarde en un diccionario. Después debe mostrar por pantalla el mensaje \\<nombre\\> tiene \\<edad\\> años, vive en \\<dirección\\> y su número de teléfono es \\<teléfono\\>.\n",
        "* Escribir un programa que guarde en un diccionario {Plátano:1.35,\n",
        "Manzana:0.80,\n",
        "Pera:0.85,\n",
        "Naranja:0.70} con los precios de las frutas, pregunte al usuario por una fruta, un número de kilos y muestre por pantalla el precio de ese número de kilos de fruta. Si la fruta no está en el diccionario debe mostrar un mensaje informando de ello.\n",
        "* Escribir un programa que cree un diccionario simulando una cesta de la compra. El programa debe preguntar el artículo y su precio y añadir el par al diccionario, hasta que el usuario decida terminar. Después se debe mostrar por pantalla la lista de la compra y el coste total.\n",
        "* Escribir un programa que permita gestionar la base de datos de clientes de una empresa. Los clientes se guardarán en un diccionario en el que la clave de cada cliente será su NIF, y el valor será otro diccionario con los datos del cliente (nombre, dirección, teléfono, correo, preferente), donde preferente tendrá el valor True si se trata de un cliente preferente. El programa debe preguntar al usuario por una opción del siguiente menú: (1) Añadir cliente, (2) Eliminar cliente, (3) Mostrar cliente, (4) Listar todos los clientes, (5) Listar clientes preferentes, (6) Terminar. En función de la opción elegida el programa tendrá que hacer lo siguiente:\n",
        "\n",
        "  1. Preguntar los datos del cliente, crear un diccionario con los datos y añadirlo a la base de datos.\n",
        "  2. Preguntar por el NIF del cliente y eliminar sus datos de la base de datos.\n",
        "  3. Preguntar por el NIF del cliente y mostrar sus datos.\n",
        "  4. Mostrar lista de todos los clientes de la base datos con su NIF y nombre.\n",
        "  5. Mostrar la lista de clientes preferentes de la base de datos con su NIF y nombre.\n",
        "  6. Terminar el programa.\n",
        "\n"
      ],
      "metadata": {
        "id": "ajXLT1Gste0d"
      }
    },
    {
      "cell_type": "code",
      "source": [],
      "metadata": {
        "id": "6S5vnXEgtdLk"
      },
      "execution_count": null,
      "outputs": []
    }
  ]
}