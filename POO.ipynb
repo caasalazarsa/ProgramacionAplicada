{
  "cells": [
    {
      "cell_type": "markdown",
      "metadata": {
        "id": "view-in-github",
        "colab_type": "text"
      },
      "source": [
        "<a href=\"https://colab.research.google.com/github/caasalazarsa/ProgramacionAplicada/blob/main/POO.ipynb\" target=\"_parent\"><img src=\"https://colab.research.google.com/assets/colab-badge.svg\" alt=\"Open In Colab\"/></a>"
      ]
    },
    {
      "cell_type": "markdown",
      "metadata": {
        "id": "8Uj8N9EKzuUO"
      },
      "source": [
        "# Intro clases y objetos\n",
        "Taken from :https://www.w3schools.com/python/python_classes.asp"
      ]
    },
    {
      "cell_type": "markdown",
      "metadata": {
        "id": "WO1CKYG-zuUR"
      },
      "source": [
        "### Create a Class\n",
        "\n",
        "To create a class, use the keyword class:"
      ]
    },
    {
      "cell_type": "code",
      "execution_count": null,
      "metadata": {
        "id": "ASFbZm4PzuUS"
      },
      "outputs": [],
      "source": [
        "class MyClass:\n",
        "  x = 10"
      ]
    },
    {
      "cell_type": "markdown",
      "metadata": {
        "id": "Rayzie7pzuUT"
      },
      "source": [
        "### Create Object\n",
        "\n",
        "Now we can use the class named MyClass to create objects:"
      ]
    },
    {
      "cell_type": "code",
      "execution_count": null,
      "metadata": {
        "id": "HFYzUFl0zuUT",
        "outputId": "b103c937-86e4-4d4b-cfc5-d40fc2598965"
      },
      "outputs": [
        {
          "name": "stdout",
          "output_type": "stream",
          "text": [
            "10\n"
          ]
        }
      ],
      "source": [
        "p1 = MyClass()\n",
        "print(p1.x) "
      ]
    },
    {
      "cell_type": "markdown",
      "metadata": {
        "id": "R8jw41syzuUU"
      },
      "source": [
        "The __init__() Function\n",
        "\n",
        "The examples above are classes and objects in their simplest form, and are not really useful in real life applications.\n",
        "\n",
        "To understand the meaning of classes we have to understand the built-in __init__() function.\n",
        "\n",
        "All classes have a function called __init__(), which is always executed when the class is being initiated.\n",
        "\n",
        "Use the __init__() function to assign values to object properties, or other operations that are necessary to do when the object is being created:"
      ]
    },
    {
      "cell_type": "code",
      "execution_count": null,
      "metadata": {
        "id": "exakJOsnzuUU",
        "outputId": "8613401a-464b-4e4f-e438-ca6524d95050"
      },
      "outputs": [
        {
          "name": "stdout",
          "output_type": "stream",
          "text": [
            "John\n",
            "36\n"
          ]
        }
      ],
      "source": [
        "class Person:\n",
        "    #def __init__(self,entradas...):\n",
        "        #self.atributo1=entrada1\n",
        "        #self.atricuto2=entada2\n",
        "        #.\n",
        "        #.\n",
        "        #.\n",
        "    \n",
        "    def __init__(self, name, age):\n",
        "        self.name = name\n",
        "        self.age = age\n",
        "\n",
        "p1 = Person(\"John\",36)\n",
        "\n",
        "print(p1.name)\n",
        "print(p1.age) "
      ]
    },
    {
      "cell_type": "markdown",
      "metadata": {
        "id": "QF8I-stHzuUV"
      },
      "source": [
        "### Object Methods\n",
        "\n",
        "Objects can also contain methods. Methods in objects are functions that belong to the object.\n",
        "\n",
        "Let us create a method in the Person class:"
      ]
    },
    {
      "cell_type": "code",
      "execution_count": null,
      "metadata": {
        "id": "hJZfTk1zzuUV",
        "outputId": "c5f4941b-c25e-436a-f4dc-d4bc5882124c"
      },
      "outputs": [
        {
          "name": "stdout",
          "output_type": "stream",
          "text": [
            "Hello my name is Carlos\n",
            "My age is 26\n"
          ]
        }
      ],
      "source": [
        "class Person:\n",
        "    def __init__(self, name, age):\n",
        "        self.name = name\n",
        "        self.age = age\n",
        "\n",
        "    def myfunc(self):\n",
        "        print(\"Hello my name is \" + str(self.name))\n",
        "\n",
        "    def showage(self):\n",
        "        print(\"My age is \"+str(self.age))\n",
        "\n",
        "p1 = Person(\"Carlos\", 26)\n",
        "p1.myfunc()\n",
        "p1.showage()"
      ]
    },
    {
      "cell_type": "markdown",
      "metadata": {
        "id": "yoUl5dtzzuUW"
      },
      "source": [
        "### Modify Object Properties\n",
        "\n",
        "You can modify properties on objects like this:"
      ]
    },
    {
      "cell_type": "code",
      "execution_count": null,
      "metadata": {
        "id": "fb4zl0OqzuUW",
        "outputId": "6c87a13e-61ba-415a-87ec-427b4562a83f"
      },
      "outputs": [
        {
          "name": "stdout",
          "output_type": "stream",
          "text": [
            "26\n",
            "40\n"
          ]
        }
      ],
      "source": [
        "print(p1.age)\n",
        "p1.age = 40\n",
        "print(p1.age)"
      ]
    },
    {
      "cell_type": "markdown",
      "metadata": {
        "id": "tA23GFoBzuUW"
      },
      "source": [
        "### Delete Objects\n",
        "\n",
        "You can delete objects by using the del keyword:"
      ]
    },
    {
      "cell_type": "code",
      "execution_count": null,
      "metadata": {
        "id": "UASF7p52zuUX",
        "outputId": "a171b70a-b32c-429e-9216-e7573a6519ab"
      },
      "outputs": [
        {
          "ename": "NameError",
          "evalue": "name 'p1' is not defined",
          "output_type": "error",
          "traceback": [
            "\u001b[1;31m---------------------------------------------------------------------------\u001b[0m",
            "\u001b[1;31mNameError\u001b[0m                                 Traceback (most recent call last)",
            "\u001b[1;32m<ipython-input-13-4cf7c075c3da>\u001b[0m in \u001b[0;36m<module>\u001b[1;34m\u001b[0m\n\u001b[1;32m----> 1\u001b[1;33m \u001b[1;32mdel\u001b[0m \u001b[0mp1\u001b[0m\u001b[1;33m\u001b[0m\u001b[1;33m\u001b[0m\u001b[0m\n\u001b[0m",
            "\u001b[1;31mNameError\u001b[0m: name 'p1' is not defined"
          ]
        }
      ],
      "source": [
        "del p1 "
      ]
    },
    {
      "cell_type": "markdown",
      "metadata": {
        "id": "ydjiLYtkzuUX"
      },
      "source": [
        "### The pass Statement\n",
        "\n",
        "class definitions cannot be empty, but if you for some reason have a class definition with no content, put in the pass statement to avoid getting an error."
      ]
    },
    {
      "cell_type": "code",
      "execution_count": null,
      "metadata": {
        "id": "JLOItQSKzuUX"
      },
      "outputs": [],
      "source": [
        "class Person:\n",
        "    pass"
      ]
    },
    {
      "cell_type": "markdown",
      "metadata": {
        "id": "2DbdqD1VzuUY"
      },
      "source": [
        "## Inheritance\n",
        "### Python Inheritance\n",
        "\n",
        "Inheritance allows us to define a class that inherits all the methods and properties from another class.\n",
        "\n",
        "Parent class is the class being inherited from, also called base class.\n",
        "\n",
        "Child class is the class that inherits from another class, also called derived class."
      ]
    },
    {
      "cell_type": "markdown",
      "metadata": {
        "id": "FbWo7hUWzuUY"
      },
      "source": [
        "### Create a Parent Class\n",
        "\n",
        "Any class can be a parent class, so the syntax is the same as creating any other class:"
      ]
    },
    {
      "cell_type": "code",
      "execution_count": null,
      "metadata": {
        "id": "1qpaG16hzuUZ",
        "outputId": "aae02d56-0e7e-4983-9c76-9b335dd10af9"
      },
      "outputs": [
        {
          "name": "stdout",
          "output_type": "stream",
          "text": [
            "John Doe\n",
            "John Doe está mal\n",
            "John Doe está con Fulana De Tal\n"
          ]
        }
      ],
      "source": [
        "class Person:\n",
        "    def __init__(self, fname, lname):\n",
        "        self.firstname = fname\n",
        "        self.lastname = lname\n",
        "\n",
        "    def printname(self):\n",
        "        print(self.firstname, self.lastname)\n",
        "    \n",
        "    def stat(self,state):\n",
        "        print(self.firstname, self.lastname,\"está\",state)\n",
        "    \n",
        "    def iswith(self,person):\n",
        "        print(self.firstname,self.lastname,\"está con\",person.firstname,person.lastname)\n",
        "\n",
        "#Use the Person class to create an object, and then execute the printname method:\n",
        "\n",
        "x = Person(\"John\", \"Doe\")\n",
        "y = Person(\"Fulana\",\"De Tal\")\n",
        "x.printname() \n",
        "x.stat(\"mal\")\n",
        "x.iswith(y)"
      ]
    },
    {
      "cell_type": "markdown",
      "metadata": {
        "id": "y2VRsT5vzuUZ"
      },
      "source": [
        "### Create a Child Class\n",
        "\n",
        "To create a class that inherits the functionality from another class, send the parent class as a parameter when creating the child class:"
      ]
    },
    {
      "cell_type": "code",
      "execution_count": null,
      "metadata": {
        "id": "Af795_eLzuUZ"
      },
      "outputs": [],
      "source": [
        " class Student(Person):\n",
        "    pass "
      ]
    },
    {
      "cell_type": "code",
      "execution_count": null,
      "metadata": {
        "id": "j1k1weBqzuUa",
        "outputId": "364683f6-123b-4359-b7bf-59a3d259f62d"
      },
      "outputs": [
        {
          "name": "stdout",
          "output_type": "stream",
          "text": [
            "Mike Olsen\n",
            "Mike\n",
            "Mike Olsen está bien\n",
            "Mike Olsen está con Fulana De Tal\n"
          ]
        }
      ],
      "source": [
        "x = Student(\"Mike\", \"Olsen\")\n",
        "x.printname() \n",
        "print(x.firstname)\n",
        "x.stat(\"bien\")\n",
        "x.iswith(y)"
      ]
    },
    {
      "cell_type": "markdown",
      "metadata": {
        "id": "q-oXSx4KzuUa"
      },
      "source": [
        "Con un nuevo __init__() se pueden cambiar las condiciones de la clase hijo en otras nuevas"
      ]
    },
    {
      "cell_type": "code",
      "execution_count": null,
      "metadata": {
        "id": "YW9qYumZzuUa"
      },
      "outputs": [],
      "source": [
        "class Student(Person):\n",
        "  def __init__(self, fname, lname,tape):\n",
        "    self.firstname=fname\n",
        "    self.lastname=lname\n",
        "    self.tape=tape\n",
        "    #add properties etc."
      ]
    },
    {
      "cell_type": "markdown",
      "metadata": {
        "id": "MGDrDsLrzuUb"
      },
      "source": [
        "Objeto de ejemplo:"
      ]
    },
    {
      "cell_type": "code",
      "execution_count": null,
      "metadata": {
        "id": "7oht3x9tzuUb",
        "outputId": "d1d92dbf-bb3e-48ed-eafd-b1ba31b954a7"
      },
      "outputs": [
        {
          "name": "stdout",
          "output_type": "stream",
          "text": [
            "Mike Olsen\n"
          ]
        }
      ],
      "source": [
        "x = Student(\"Mike\", \"Olsen\",10)\n",
        "x.printname() "
      ]
    },
    {
      "cell_type": "markdown",
      "metadata": {
        "id": "zTVqcQ1izuUb"
      },
      "source": [
        "Aunque se pueden tener nuevos parámetros puedo inicializar los que ya había en el padre con sus valores iniciales"
      ]
    },
    {
      "cell_type": "code",
      "execution_count": null,
      "metadata": {
        "id": "FKBdlqOtzuUc"
      },
      "outputs": [],
      "source": [
        "class Student(Person):\n",
        "  def __init__(self, fname, lname,tape):\n",
        "    Person.__init__(self, fname, lname)\n",
        "    self.tape=tape"
      ]
    },
    {
      "cell_type": "markdown",
      "metadata": {
        "id": "F2SxAthbzuUc"
      },
      "source": [
        "Clase de ejemplo"
      ]
    },
    {
      "cell_type": "code",
      "execution_count": null,
      "metadata": {
        "id": "WvvHB9nuzuUc"
      },
      "outputs": [],
      "source": [
        "x = Student(\"Mike\", \"Olsen\",10)"
      ]
    },
    {
      "cell_type": "code",
      "execution_count": null,
      "metadata": {
        "id": "ryW1piMgzuUc"
      },
      "outputs": [],
      "source": [
        "class Student(Person):\n",
        "    def __init__(self, fname, lname):\n",
        "        super().__init__(fname, lname) "
      ]
    },
    {
      "cell_type": "code",
      "execution_count": null,
      "metadata": {
        "id": "dBmM8RHMzuUc"
      },
      "outputs": [],
      "source": [
        "x = Student(\"Mike\", \"Olsen\")"
      ]
    },
    {
      "cell_type": "markdown",
      "metadata": {
        "id": "sa-ZnHN2zuUd"
      },
      "source": [
        "Luego de usar el constructor del padre se pueden definir otros atibutos de la clase hijo"
      ]
    },
    {
      "cell_type": "code",
      "execution_count": null,
      "metadata": {
        "id": "0bPO-HTazuUd"
      },
      "outputs": [],
      "source": [
        "class Student(Person):\n",
        "  def __init__(self, fname, lname,year):\n",
        "    super().__init__(fname, lname)\n",
        "    self.graduationyear = year"
      ]
    },
    {
      "cell_type": "code",
      "execution_count": null,
      "metadata": {
        "id": "ce4Wky1QzuUd"
      },
      "outputs": [],
      "source": [
        "x = Student(\"Mike\", \"Olsen\", 2019)"
      ]
    },
    {
      "cell_type": "markdown",
      "metadata": {
        "id": "66wC0ooBzuUd"
      },
      "source": [
        "En la clase hijo se pueden definir nuevos métodos propios de su clase"
      ]
    },
    {
      "cell_type": "code",
      "execution_count": null,
      "metadata": {
        "id": "-PUpUmMLzuUd"
      },
      "outputs": [],
      "source": [
        "class Student(Person):\n",
        "    def __init__(self, fname, lname, year):\n",
        "        super().__init__(fname, lname)\n",
        "        self.graduationyear = year\n",
        "\n",
        "    def welcome(self):\n",
        "        print(\"Welcome\", self.firstname, self.lastname, \"to the class of\", self.graduationyear) "
      ]
    },
    {
      "cell_type": "code",
      "execution_count": null,
      "metadata": {
        "id": "2JahqLHmzuUe",
        "outputId": "cf649f61-ad90-49a2-805e-17b1a61bdb08"
      },
      "outputs": [
        {
          "name": "stdout",
          "output_type": "stream",
          "text": [
            "Welcome Mike Olsen to the class of 2019\n"
          ]
        }
      ],
      "source": [
        "x = Student(\"Mike\", \"Olsen\",2019)\n",
        "x.welcome()"
      ]
    },
    {
      "cell_type": "markdown",
      "metadata": {
        "id": "wDIpjyhMzuUe"
      },
      "source": [
        "## Abstract Classes\n"
      ]
    },
    {
      "cell_type": "code",
      "execution_count": null,
      "metadata": {
        "id": "-r9Cx3lNzuUf"
      },
      "outputs": [],
      "source": [
        "import abc\n",
        "from abc import ABC,abstractmethod,ABCMeta\n",
        "class Person(ABC):\n",
        "    @abstractmethod\n",
        "    def __init__(self, fname, lname):\n",
        "        self.firstname = fname\n",
        "        self.lastname = lname\n",
        "    @abstractmethod\n",
        "    def printname(self):\n",
        "        raise notImplementedError\n"
      ]
    },
    {
      "cell_type": "code",
      "execution_count": null,
      "metadata": {
        "id": "8rscIwbLzuUf",
        "outputId": "2f0421c2-1c03-4862-9cc0-fb7d7546e2f7"
      },
      "outputs": [
        {
          "ename": "TypeError",
          "evalue": "Can't instantiate abstract class Person with abstract methods __init__, printname",
          "output_type": "error",
          "traceback": [
            "\u001b[1;31m---------------------------------------------------------------------------\u001b[0m",
            "\u001b[1;31mTypeError\u001b[0m                                 Traceback (most recent call last)",
            "\u001b[1;32m<ipython-input-2-48bba138b4e4>\u001b[0m in \u001b[0;36m<module>\u001b[1;34m\u001b[0m\n\u001b[1;32m----> 1\u001b[1;33m \u001b[0mp1\u001b[0m\u001b[1;33m=\u001b[0m\u001b[0mPerson\u001b[0m\u001b[1;33m(\u001b[0m\u001b[1;34m\"Carlos\"\u001b[0m\u001b[1;33m,\u001b[0m\u001b[1;34m\"Salazar\"\u001b[0m\u001b[1;33m)\u001b[0m\u001b[1;33m\u001b[0m\u001b[1;33m\u001b[0m\u001b[0m\n\u001b[0m",
            "\u001b[1;31mTypeError\u001b[0m: Can't instantiate abstract class Person with abstract methods __init__, printname"
          ]
        }
      ],
      "source": [
        "p1=Person(\"Carlos\",\"Salazar\")"
      ]
    },
    {
      "cell_type": "code",
      "execution_count": null,
      "metadata": {
        "id": "_zktJZDPzuUf"
      },
      "outputs": [],
      "source": [
        "class Student(Person):\n",
        "    def __init__(self, fname, lname,tape):\n",
        "        self.firstname=fname\n",
        "        self.lastname=lname\n",
        "        self.tape=tape\n",
        "        self.__data= 1\n",
        "    #add properties etc.\n",
        "    def printname(self):\n",
        "        print(self.firstname, self.lastname)\n",
        "    def getdata(self):\n",
        "        return self.__data\n",
        "    def setdata(self,data):\n",
        "        self.__data=data\n",
        "        \n",
        "    def __mytape(self):\n",
        "        print(self.tape)"
      ]
    },
    {
      "cell_type": "code",
      "execution_count": null,
      "metadata": {
        "id": "KDtvBAT1zuUf"
      },
      "outputs": [],
      "source": [
        "x=Student(\"Mike\",\"Olsen\",100)"
      ]
    },
    {
      "cell_type": "code",
      "execution_count": null,
      "metadata": {
        "id": "Xwv6E4axzuUg",
        "outputId": "c6ba218b-f3db-48c7-c89d-3971151286a0"
      },
      "outputs": [
        {
          "name": "stdout",
          "output_type": "stream",
          "text": [
            "1\n"
          ]
        }
      ],
      "source": [
        "print(x.getdata())"
      ]
    },
    {
      "cell_type": "code",
      "execution_count": null,
      "metadata": {
        "id": "kKJwLKo5zuUg"
      },
      "outputs": [],
      "source": [
        "x.setdata(2)"
      ]
    },
    {
      "cell_type": "code",
      "execution_count": null,
      "metadata": {
        "id": "6GrFryH_zuUg",
        "outputId": "b25a3561-8b63-4648-845c-5bcfc5ef4019"
      },
      "outputs": [
        {
          "name": "stdout",
          "output_type": "stream",
          "text": [
            "2\n"
          ]
        }
      ],
      "source": [
        "print(x.getdata())"
      ]
    },
    {
      "cell_type": "code",
      "execution_count": null,
      "metadata": {
        "id": "GWCpLCTLzuUg"
      },
      "outputs": [],
      "source": [
        "x.setdata(20)"
      ]
    },
    {
      "cell_type": "code",
      "execution_count": null,
      "metadata": {
        "id": "-5rYyKUOzuUg",
        "outputId": "efdc0f9f-44b1-4dc9-e22e-68dd2b414584"
      },
      "outputs": [
        {
          "data": {
            "text/plain": [
              "20"
            ]
          },
          "execution_count": 85,
          "metadata": {},
          "output_type": "execute_result"
        }
      ],
      "source": [
        "x.getdata()"
      ]
    },
    {
      "cell_type": "code",
      "execution_count": null,
      "metadata": {
        "id": "a7nEVz_tzuUh",
        "outputId": "2c099352-628c-42c5-dee7-89dc0094e36d"
      },
      "outputs": [
        {
          "name": "stdout",
          "output_type": "stream",
          "text": [
            "20\n"
          ]
        }
      ],
      "source": [
        "dir(x)\n",
        "print(x._Student__data)"
      ]
    },
    {
      "cell_type": "code",
      "execution_count": null,
      "metadata": {
        "id": "ulALQ46WzuUh",
        "outputId": "9c3022e0-e073-414f-e620-6a358de2de4d"
      },
      "outputs": [
        {
          "name": "stdout",
          "output_type": "stream",
          "text": [
            "100\n"
          ]
        }
      ],
      "source": [
        "x._Student__mytape()"
      ]
    },
    {
      "cell_type": "code",
      "execution_count": null,
      "metadata": {
        "id": "J50ycthLzuUh"
      },
      "outputs": [],
      "source": []
    }
  ],
  "metadata": {
    "kernelspec": {
      "display_name": "Python 3",
      "language": "python",
      "name": "python3"
    },
    "language_info": {
      "codemirror_mode": {
        "name": "ipython",
        "version": 3
      },
      "file_extension": ".py",
      "mimetype": "text/x-python",
      "name": "python",
      "nbconvert_exporter": "python",
      "pygments_lexer": "ipython3",
      "version": "3.7.6"
    },
    "latex_envs": {
      "LaTeX_envs_menu_present": true,
      "autoclose": false,
      "autocomplete": true,
      "bibliofile": "biblio.bib",
      "cite_by": "apalike",
      "current_citInitial": 1,
      "eqLabelWithNumbers": true,
      "eqNumInitial": 1,
      "hotkeys": {
        "equation": "Ctrl-E",
        "itemize": "Ctrl-I"
      },
      "labels_anchors": false,
      "latex_user_defs": false,
      "report_style_numbering": false,
      "user_envs_cfg": false
    },
    "colab": {
      "provenance": [],
      "include_colab_link": true
    }
  },
  "nbformat": 4,
  "nbformat_minor": 0
}