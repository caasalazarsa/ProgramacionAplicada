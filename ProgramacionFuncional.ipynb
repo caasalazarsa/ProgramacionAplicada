{
  "nbformat": 4,
  "nbformat_minor": 0,
  "metadata": {
    "colab": {
      "provenance": [],
      "authorship_tag": "ABX9TyMiaJG7HINnM0PLlByVCAlK",
      "include_colab_link": true
    },
    "kernelspec": {
      "name": "python3",
      "display_name": "Python 3"
    },
    "language_info": {
      "name": "python"
    }
  },
  "cells": [
    {
      "cell_type": "markdown",
      "metadata": {
        "id": "view-in-github",
        "colab_type": "text"
      },
      "source": [
        "<a href=\"https://colab.research.google.com/github/caasalazarsa/ProgramacionAplicada/blob/main/ProgramacionFuncional.ipynb\" target=\"_parent\"><img src=\"https://colab.research.google.com/assets/colab-badge.svg\" alt=\"Open In Colab\"/></a>"
      ]
    },
    {
      "cell_type": "code",
      "execution_count": 3,
      "metadata": {
        "colab": {
          "base_uri": "https://localhost:8080/"
        },
        "id": "Jfm-11DUXQ3_",
        "outputId": "1c87e435-bba7-415d-ac1f-cdac5ad13fe4"
      },
      "outputs": [
        {
          "output_type": "stream",
          "name": "stdout",
          "text": [
            "18\n",
            "50\n"
          ]
        }
      ],
      "source": [
        "\n",
        "def suma(a,b):\n",
        "  res=a+b\n",
        "  return res\n",
        "\n",
        "a=10\n",
        "b=8\n",
        "\n",
        "print(suma(a,b))\n",
        "\n",
        "c=20\n",
        "d=30\n",
        "\n",
        "print(suma(c,d))"
      ]
    },
    {
      "cell_type": "code",
      "source": [
        "def saludo():\n",
        "  print(\"hola Carlos\")\n",
        "\n",
        "saludo()\n",
        "saludo()\n",
        "\n",
        "def saludarPersona(nombre=\"Valet\"):\n",
        "  print(\"Hola\",nombre)\n",
        "\n",
        "saludarPersona()\n",
        "saludarPersona(\"Pedro\")"
      ],
      "metadata": {
        "colab": {
          "base_uri": "https://localhost:8080/"
        },
        "id": "DKg1n_S_YAnp",
        "outputId": "cd530f69-df68-49f4-f364-169028ebcdd4"
      },
      "execution_count": 9,
      "outputs": [
        {
          "output_type": "stream",
          "name": "stdout",
          "text": [
            "hola Carlos\n",
            "hola Carlos\n",
            "Hola Valet\n",
            "Hola Pedro\n"
          ]
        }
      ]
    },
    {
      "cell_type": "code",
      "source": [
        "def menu(*platos):\n",
        "  print('Hoy tenemos: ')\n",
        "  for plato in platos:\n",
        "    print(plato)\n",
        "  return\n",
        "\n",
        "menu(\"pizza\",\"lasagna\",\"pasta\")\n",
        "menu(\"pan\",\"agua\")\n",
        "menu(\"pan\",\"gaseosa\",\"salchichon\")"
      ],
      "metadata": {
        "colab": {
          "base_uri": "https://localhost:8080/"
        },
        "id": "QGk-zx4FZBhy",
        "outputId": "9e092c80-2eb0-44b7-eafd-da36d14a1adc"
      },
      "execution_count": 15,
      "outputs": [
        {
          "output_type": "stream",
          "name": "stdout",
          "text": [
            "Hoy tenemos: \n",
            "pizza\n",
            "lasagna\n",
            "pasta\n",
            "Hoy tenemos: \n",
            "pan\n",
            "agua\n",
            "Hoy tenemos: \n",
            "pan\n",
            "gaseosa\n",
            "salchichon\n"
          ]
        }
      ]
    },
    {
      "cell_type": "code",
      "source": [
        "def contacto(**info):\n",
        "  print('Datos del contacto')\n",
        "  for clave, valor in info.items():\n",
        "    print(clave, \":\", valor)\n",
        "  return\n",
        "\n",
        "contacto(nombre=\"Carlos\",email=\"csalazarsa01@uninpahu.edu.co\",telefono=\"123454132\")\n",
        "\n"
      ],
      "metadata": {
        "colab": {
          "base_uri": "https://localhost:8080/"
        },
        "id": "47Vpvvrza8Ga",
        "outputId": "f84bec5f-beee-4f31-b1fc-6f728115ffff"
      },
      "execution_count": 17,
      "outputs": [
        {
          "output_type": "stream",
          "name": "stdout",
          "text": [
            "Datos del contacto\n",
            "nombre : Carlos\n",
            "email : csalazarsa01@uninpahu.edu.co\n",
            "telefono : 123454132\n"
          ]
        }
      ]
    },
    {
      "cell_type": "code",
      "source": [
        "def descuento(precio,porcentaje):\n",
        "  precio_nuevo=precio*(100-porcentaje)/100\n",
        "  return precio_nuevo\n",
        "\n",
        "def iva(precio,porcentaje):\n",
        "  precio_nuevo=precio*(100+porcentaje)/100\n",
        "  return precio_nuevo\n",
        "  \n",
        "print(descuento(10000,20))\n",
        "print(iva(10000,19))\n",
        "\n",
        "def calcular(cesta,funcion):\n",
        "  values=[]\n",
        "  for precio,porcentaje in cesta.items():\n",
        "    values.append(funcion(precio,porcentaje))\n",
        "\n",
        "  return values,sum(values)\n",
        "\n",
        "cesta={10000:20,50000:30,4000:3}\n",
        "\n",
        "precios_desc,total_desc=calcular(cesta,descuento)\n",
        "precios_iva,total_iva=calcular(cesta,iva)\n",
        "print(precios_desc,total_desc)\n",
        "print(precios_iva,total_iva)\n"
      ],
      "metadata": {
        "colab": {
          "base_uri": "https://localhost:8080/"
        },
        "id": "BES1VFNIdxC-",
        "outputId": "72f97a58-0adc-48a7-d4ad-267b5fcd9086"
      },
      "execution_count": 22,
      "outputs": [
        {
          "output_type": "stream",
          "name": "stdout",
          "text": [
            "8000.0\n",
            "11900.0\n",
            "[8000.0, 35000.0, 3880.0] 46880.0\n",
            "[12000.0, 65000.0, 4120.0] 81120.0\n"
          ]
        }
      ]
    }
  ]
}