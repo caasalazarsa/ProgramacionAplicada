{
  "cells": [
    {
      "cell_type": "markdown",
      "metadata": {
        "id": "view-in-github",
        "colab_type": "text"
      },
      "source": [
        "<a href=\"https://colab.research.google.com/github/caasalazarsa/ProgramacionAplicada/blob/main/Ejercicio2_Herencia_Resuelto.ipynb\" target=\"_parent\"><img src=\"https://colab.research.google.com/assets/colab-badge.svg\" alt=\"Open In Colab\"/></a>"
      ]
    },
    {
      "cell_type": "markdown",
      "metadata": {
        "id": "JKmi_IUL0ZMn"
      },
      "source": [
        "## Taller 2 de POO Herencia\n",
        "\n",
        "En este ejercicio vas a trabajar el concepto de herencia un poco más en profundidad, aprovechando para introducir un nuevo concepto muy importante que te facilitará la vida.\n",
        "\n",
        "Hasta ahora sabemos que una clase heredada puede fácilmente extender algunas funcionalidades, simplemente añadiendo nuevos atributos y métodos, o sobreescribiendo los ya existentes. Como en el siguiente ejemplo"
      ]
    },
    {
      "cell_type": "code",
      "execution_count": null,
      "metadata": {
        "id": "7IbD8iuL0ZMr",
        "outputId": "b33df1c7-fca7-49c9-ce81-b90e1bb044bb"
      },
      "outputs": [
        {
          "name": "stdout",
          "output_type": "stream",
          "text": [
            "Color azul, 4 ruedas, 150 km/h, 1200 cc\n",
            "<class '__main__.Coche'>\n"
          ]
        }
      ],
      "source": [
        "class Vehiculo():\n",
        "\n",
        "    def __init__(self, color, ruedas):\n",
        "        self.color = color\n",
        "        self.ruedas = ruedas\n",
        "\n",
        "    def __str__(self):\n",
        "        return \"Color {}, {} ruedas\".format( self.color, self.ruedas )\n",
        "\n",
        "\n",
        "class Coche(Vehiculo):\n",
        "\n",
        "    def __init__(self, color, ruedas, velocidad, cilindrada):\n",
        "        Vehiculo.__init__(self, color, ruedas)\n",
        "        self.velocidad = velocidad\n",
        "        self.cilindrada = cilindrada\n",
        "\n",
        "    def __str__(self):\n",
        "        return Vehiculo.__str__(self) + \", {} km/h, {} cc\".format(self.velocidad, self.cilindrada)\n",
        "\n",
        "\n",
        "c = Coche(\"azul\", 4, 150, 1200)\n",
        "print(c)\n",
        "#print(type(c).__name__,c)"
      ]
    },
    {
      "cell_type": "markdown",
      "metadata": {
        "id": "_DY_-uN20ZMs"
      },
      "source": [
        "\n",
        "- Crea al menos un objeto de cada subclase y añádelos a una lista llamada vehiculos.\n",
        "- Realiza una función llamada catalogar() que reciba la lista de vehiculos y los recorra mostrando el nombre de su clase y sus atributos.\n",
        "- Modifica la función catalogar() para que reciba un argumento optativo ruedas, haciendo que muestre únicamente los que su número de ruedas concuerde con el valor del argumento. También debe mostrar un mensaje \"Se han encontrado {} vehículos con {} ruedas:\" únicamente si se envía el argumento ruedas. Ponla a prueba con 0, 2 y 4 ruedas como valor."
      ]
    },
    {
      "cell_type": "code",
      "execution_count": null,
      "metadata": {
        "id": "Cqpf4JBz0ZMt",
        "outputId": "1660f5ab-2517-45e0-94b2-5560098eb50f"
      },
      "outputs": [
        {
          "name": "stdout",
          "output_type": "stream",
          "text": [
            "Coche color azul, 4 ruedas, 150 km/h, 1200 cc\n",
            "Camioneta color blanco, 4 ruedas, 100 km/h, 1300 cc, 1500 kg de carga\n",
            "Bicicleta color verde, 2 ruedas, urbana\n",
            "Motocicleta color negro, 2 ruedas, deportiva, 180 km/h, 900 cc\n",
            "\n",
            "Se han encontrado 0 vehículos con 0 ruedas:\n",
            "\n",
            "Se han encontrado 2 vehículos con 2 ruedas:\n",
            "Bicicleta color verde, 2 ruedas, urbana\n",
            "Motocicleta color negro, 2 ruedas, deportiva, 180 km/h, 900 cc\n",
            "\n",
            "Se han encontrado 2 vehículos con 4 ruedas:\n",
            "Coche color azul, 4 ruedas, 150 km/h, 1200 cc\n",
            "Camioneta color blanco, 4 ruedas, 100 km/h, 1300 cc, 1500 kg de carga\n"
          ]
        }
      ],
      "source": [
        "class Vehiculo():\n",
        "\n",
        "    def __init__(self, color, ruedas):\n",
        "        self.color = color\n",
        "        self.ruedas = ruedas\n",
        "\n",
        "    def __str__(self):\n",
        "        return \"color {}, {} ruedas\".format( self.color, self.ruedas )\n",
        "\n",
        "\n",
        "class Coche(Vehiculo):\n",
        "\n",
        "    def __init__(self, color, ruedas, velocidad, cilindrada):\n",
        "        super().__init__(color, ruedas)  # utilizamos super()\n",
        "        self.velocidad = velocidad\n",
        "        self.cilindrada = cilindrada\n",
        "\n",
        "    def __str__(self):\n",
        "        return super().__str__() + \", {} km/h, {} cc\".format(\n",
        "            self.velocidad, self.cilindrada)\n",
        "\n",
        "\n",
        "# Completa el ejercicio aquí\n",
        "\n",
        "class Camioneta(Coche):\n",
        "\n",
        "    def __init__(self, color, ruedas, velocidad, cilindrada, carga):\n",
        "        super().__init__(color, ruedas, velocidad, cilindrada)\n",
        "        self.carga = carga\n",
        "\n",
        "    def __str__(self):\n",
        "        return super().__str__() + \", {} kg de carga\".format(self.carga)\n",
        "\n",
        "\n",
        "class Bicicleta(Vehiculo):\n",
        "\n",
        "    def __init__(self, color, ruedas, tipo):\n",
        "        super().__init__(color, ruedas)\n",
        "        self.tipo = tipo\n",
        "\n",
        "    def __str__(self):\n",
        "        return super().__str__() + \", {}\".format(self.tipo)\n",
        "\n",
        "\n",
        "class Motocicleta(Bicicleta):\n",
        "\n",
        "    def __init__(self, color, ruedas, tipo, velocidad, cilindrada):\n",
        "        super().__init__(color, ruedas, tipo)\n",
        "        self.velocidad = velocidad\n",
        "        self.cilindrada = cilindrada\n",
        "\n",
        "    def __str__(self):\n",
        "        return super().__str__() + \", {} km/h, {} cc\".format(\n",
        "            self.velocidad, self.cilindrada) \n",
        "\n",
        "\n",
        "# def catalogar(vehiculos):\n",
        "#    for v in vehiculos:\n",
        "#        print(type(v).__name__, v)\n",
        "\n",
        "def catalogar(vehiculos, ruedas=None):\n",
        "\n",
        "    # Primera pasada, mostrar recuento\n",
        "    if ruedas != None:\n",
        "        contador = 0\n",
        "        for v in vehiculos:\n",
        "            if v.ruedas == ruedas: \n",
        "                contador += 1\n",
        "        print(\"\\nSe han encontrado {} vehículos con {} ruedas:\".format(\n",
        "            contador, ruedas))\n",
        "\n",
        "    # Segnda pasada, mostrar vehículos\n",
        "    for v in vehiculos:\n",
        "        if ruedas == None:\n",
        "            print(type(v).__name__, v)\n",
        "        else:\n",
        "            if v.ruedas == ruedas:\n",
        "                print(type(v).__name__, v)\n",
        "\n",
        "\n",
        "lista = [\n",
        "    Coche(\"azul\", 4, 150, 1200),\n",
        "    Camioneta(\"blanco\", 4, 100, 1300, 1500),\n",
        "    Bicicleta(\"verde\", 2, \"urbana\"),\n",
        "    Motocicleta(\"negro\", 2, \"deportiva\", 180, 900)\n",
        "]\n",
        "\n",
        "catalogar(lista)\n",
        "catalogar(lista, 0)\n",
        "catalogar(lista, 2)\n",
        "catalogar(lista, 4)"
      ]
    },
    {
      "cell_type": "code",
      "execution_count": null,
      "metadata": {
        "id": "6xycM7qp0ZMu"
      },
      "outputs": [],
      "source": []
    }
  ],
  "metadata": {
    "kernelspec": {
      "display_name": "Python 3",
      "language": "python",
      "name": "python3"
    },
    "language_info": {
      "codemirror_mode": {
        "name": "ipython",
        "version": 3
      },
      "file_extension": ".py",
      "mimetype": "text/x-python",
      "name": "python",
      "nbconvert_exporter": "python",
      "pygments_lexer": "ipython3",
      "version": "3.7.6"
    },
    "latex_envs": {
      "LaTeX_envs_menu_present": true,
      "autoclose": false,
      "autocomplete": true,
      "bibliofile": "biblio.bib",
      "cite_by": "apalike",
      "current_citInitial": 1,
      "eqLabelWithNumbers": true,
      "eqNumInitial": 1,
      "hotkeys": {
        "equation": "Ctrl-E",
        "itemize": "Ctrl-I"
      },
      "labels_anchors": false,
      "latex_user_defs": false,
      "report_style_numbering": false,
      "user_envs_cfg": false
    },
    "colab": {
      "provenance": [],
      "include_colab_link": true
    }
  },
  "nbformat": 4,
  "nbformat_minor": 0
}